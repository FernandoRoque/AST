{
 "cells": [
  {
   "cell_type": "markdown",
   "metadata": {},
   "source": [
    "# 8. Cointegración"
   ]
  },
  {
   "cell_type": "markdown",
   "metadata": {},
   "source": [
    "Ahora nos concentraremos en vectores de procesos estocásticos no estacionarios. Sea el siguiente modelo VAR(p):\n",
    "\n",
    "$$\\mathbf{y}_t = \\mathbf{\\alpha} + \\mathbf{\\Phi}_1 \\mathbf{y}_{t - 1} + \\mathbf{\\Phi}_2 \\mathbf{y}_{t - 2} + \\dots + \\mathbf{\\Phi}_p \\mathbf{y}_{t - p} + \\mathbf{\\epsilon}_t$$\n",
    "\n",
    "Este modelo puede reescribirse como:\n",
    "\n",
    "$$\\mathbf{y}_t = \\mathbf{\\zeta}_1 \\mathbf{\\Delta y_{t - 1}} + \\mathbf{\\zeta}_2 \\mathbf{\\Delta y_{t - 2}} + \\dots + \\mathbf{\\zeta}_{p - 1} \\mathbf{\\Delta y_{t - p + 1}} + \\mathbf{\\alpha} + \\mathbf{\\rho y_{t - 1}} + \\mathbf{\\epsilon}_t$$"
   ]
  },
  {
   "cell_type": "markdown",
   "metadata": {},
   "source": [
    "Si se cumple que:\n",
    "\n",
    "$$\\mathbf{\\rho} = \\mathbf{I}_n$$\n",
    "\n",
    "que equivale a:\n",
    "\n",
    "$$\\mathbf{\\Phi_1 + \\Phi_2 + \\dots + \\Phi_p} = I_n$$\n",
    "\n",
    "Esto implicaría la existencia de al menos una raiz unitaria ya que:\n",
    "\n",
    "$$det(\\mathbf{I_n - \\Phi_1 - \\Phi_2 - \\dots - \\Phi_p}) = 0$$\n",
    "\n",
    "Por lo tanto el VAR(p) es I(1) y no es estacionario. En cambio el modelo VAR(p-1) en diferencias si lo sería:\n",
    "\n",
    "$$\\mathbf{\\Delta y_t} = \\mathbf{\\zeta}_1 \\mathbf{\\Delta y_{t - 1}} + \\mathbf{\\zeta}_2 \\mathbf{\\Delta y_{t - 2}} + \\dots + \\mathbf{\\zeta}_{p - 1} \\mathbf{\\Delta y_{t - p + 1}} + \\mathbf{\\alpha} + \\mathbf{\\epsilon}_t$$"
   ]
  },
  {
   "cell_type": "markdown",
   "metadata": {},
   "source": [
    "Entonces volvemos a la dicotomía de estimar el VAR en niveles o diferencias considerando que es probable que el VAR no sea estacionario. Afortunadamente, como lo expone Hamilton(1994) aun en el caso que el VAR no sea estacionario las estimaciones por MCO siguen siendo consistentes y pueden aplicarse las usuales pruebas t y F. Sin embargo, hay que tener cuidado con la prueba de Granger ya que si el VAR no es estacionario el estadístico de esta prueba no converge a una $\\chi^2$ por lo que puede darse situaciones que acepte la hipótesis de causalidad cuando no existe una relación causal en el sentido de Granger entre variables."
   ]
  },
  {
   "cell_type": "markdown",
   "metadata": {},
   "source": [
    "### 8.1 Regresiones espúreas"
   ]
  },
  {
   "cell_type": "markdown",
   "metadata": {},
   "source": [
    "Imaginemos que tenemos un vector de variables I(1) de tamaño $n$ $\\mathbf{y}_t$ y queremos obtener la relación lineal entre el primer componente de este vector $y_t$ y las restantes variables que denominamos $\\mathbf{x}_t$. Optamos por una relación lineal de la forma:\n",
    "\n",
    "$$y_t = \\mathbf{x}'_t \\mathbf{\\beta} + u_t$$\n",
    "\n",
    "¿Cuál es el problema al efectuar esta regresión? Si no existe una relación de cointegración (veremos más adelante la definición) entre las variables consideradas; entonces los estimadores por OLS no son consistentes y los estadísticos t y F no convergen a ninguna distribución límite. En realidad divergen a medida que aumentamos el tamaño de la muestra y es casi seguro encontrar resultados donde los coeficientes de la regresión son significativos. Ilustremos esto.\n",
    "\n",
    "Sean los siguientes procesos camino aleatorio con constante:\n",
    "\n",
    "$$y_t = 0.4 + y_{t - 1} + \\epsilon_t$$\n",
    "$$x_t = 0.6 + x_{t - 1} + \\nu_t$$"
   ]
  },
  {
   "cell_type": "code",
   "execution_count": 110,
   "metadata": {},
   "outputs": [],
   "source": [
    "set.seed(12345)\n",
    "epsilon <- rnorm(500); nu <- rnorm(500, mean = 0, sd = 1.5)\n",
    "y <- rep(0, 500); x <- rep(0, 500)\n",
    "y[1] <- 1; x[1] <- 500\n",
    "for (i in 2:500) {\n",
    "    y[i] <- 0.4 + y[i - 1] + epsilon[i]\n",
    "    x[i] <- 0.6 + x[i - 1] + nu[i]\n",
    "}"
   ]
  },
  {
   "cell_type": "code",
   "execution_count": 111,
   "metadata": {},
   "outputs": [],
   "source": [
    "datos <- data.frame(y = y[401:500], x = x[401:500])"
   ]
  },
  {
   "cell_type": "code",
   "execution_count": 112,
   "metadata": {},
   "outputs": [],
   "source": [
    "ols_mod <- lm(y ~ x, data = datos)"
   ]
  },
  {
   "cell_type": "code",
   "execution_count": 113,
   "metadata": {},
   "outputs": [
    {
     "data": {
      "text/plain": [
       "\n",
       "Call:\n",
       "lm(formula = y ~ x, data = datos)\n",
       "\n",
       "Residuals:\n",
       "    Min      1Q  Median      3Q     Max \n",
       "-15.907  -8.456  -1.436   9.050  16.623 \n",
       "\n",
       "Coefficients:\n",
       "              Estimate Std. Error t value Pr(>|t|)    \n",
       "(Intercept) -453.85614   70.93469  -6.398 5.40e-09 ***\n",
       "x              0.86234    0.08983   9.600 8.94e-16 ***\n",
       "---\n",
       "Signif. codes:  0 '***' 0.001 '**' 0.01 '*' 0.05 '.' 0.1 ' ' 1\n",
       "\n",
       "Residual standard error: 9.142 on 98 degrees of freedom\n",
       "Multiple R-squared:  0.4846,\tAdjusted R-squared:  0.4794 \n",
       "F-statistic: 92.16 on 1 and 98 DF,  p-value: 8.945e-16\n"
      ]
     },
     "metadata": {},
     "output_type": "display_data"
    }
   ],
   "source": [
    "summary(ols_mod)"
   ]
  },
  {
   "cell_type": "markdown",
   "metadata": {},
   "source": [
    "### 8.3 Descomposición de Beveridge - Nelson"
   ]
  },
  {
   "cell_type": "markdown",
   "metadata": {},
   "source": [
    "Sea el proceso vectorial de media 0 $\\mathbf{u}_t$ donde:\n",
    "\n",
    "$$\\mathbf{u}_t = \\sum^\\infty_{j = 0}\\mathbf{\\Psi}_j \\mathbf{\\epsilon}_{t - j} = \\mathbf{\\Psi}(L)\\mathbf{\\epsilon}_t$$\n",
    "\n",
    "donde $\\epsilon_t$ es un proceso vectorial ruido blanco. Si se cumplen las siguientes condiciones:\n",
    "\n",
    "1. $\\sum^\\infty_{s = 0}s|\\psi^{(s)}_{ij}| < \\infty$. Esta condición es más fuerte que la condición de sumabilidad absoluta $\\sum^\\infty_{s = 0}|\\psi_{ij}| < \\infty$.\n",
    "2. $\\mathbf{\\Psi}(1) = \\mathbf{\\Psi}_0 + \\mathbf{\\Psi}_1 + \\dots \\neq \\mathbf{0}$\n",
    "\n",
    "Entonces se cumple que:\n",
    "\n",
    "$$\\sum^t_{s = 1}\\mathbf{u}_s = \\mathbf{\\Psi}(1)\\sum^t_{s = 1} \\mathbf{\\epsilon}_s + \\mathbf{\\eta}_t - \\mathbf{\\eta}_0$$ "
   ]
  },
  {
   "cell_type": "markdown",
   "metadata": {},
   "source": [
    "Esta sería la descomposición de Beveridge-Nelson donde: $\\mathbf{\\Psi}(1)\\sum^t_{s = 1} \\mathbf{\\epsilon}_s$ sería la tendencia estocástica y  $\\mathbf{\\eta}_t$ es un componente transitorio. \n",
    "\n",
    "Consideremos que $\\mathbf{y}_t$ sigue un proceso I(1) entonces:\n",
    "\n",
    "$$\\mathbf{\\Delta y_t} = \\mathbf{\\delta} + \\mathbf{u}_t$$\n",
    "\n",
    "Lo que equivale a:\n",
    "\n",
    "$$\\mathbf{y}_t = \\mathbf{y}_0 + \\mathbf{\\delta}t + \\sum^t_{s = 1}\\mathbf{u}_s$$\n",
    "\n",
    "Entonces tendríamos que:\n",
    "\n",
    "$$\\mathbf{y}_t =  \\mathbf{\\delta}t + \\mathbf{\\Psi}(1)\\sum^t_{s = 1} \\mathbf{\\epsilon}_s +  \\mathbf{\\eta}_t +(\\mathbf{y}_0 - \\mathbf{\\eta}_0)$$"
   ]
  },
  {
   "cell_type": "markdown",
   "metadata": {},
   "source": [
    "### 8.4 Cointegración"
   ]
  },
  {
   "cell_type": "markdown",
   "metadata": {},
   "source": [
    "Hemos visto que todo proceso vectorial I(1) puede descomponerse en una tendencia determinística, una tendencia estochástica y un componente estacionario; entonces, ¿es posible que alguna combinación lineal de las variables que conforman el vector $\\mathbf{y}_t$ tal que se elimine la tendencia estocástica y la tendencia determinística?\n",
    "\n",
    "Llamemos a ese vector $\\mathbf{a}$, que cumple con las siguientes características:\n",
    "\n",
    "1. $\\mathbf{a}'\\mathbf{\\Psi}(1) = \\mathbf{0}$.\n",
    "2. $\\mathbf{a}'\\mathbf{\\delta} = 0$.\n",
    "\n",
    "Si $\\mathbf{a}$ cumple estas características se dice que es un vector de cointegración. Puede darse el caso de que no cumpla 2. en ese caso se habla de cointegración estocástica.\n",
    "\n",
    "El vector $\\mathbf{a}$ no es necesariamente único. Pueden existir $h$ vectores de cointegración independientes para un proceso $\\mathbf{y}_t$ I(1). Podemos juntarlos todos en una matriz $n \\times h$; entonces $\\mathbf{A}$ debe cumplir que :\n",
    "\n",
    "1. $\\mathbf{A}'\\mathbf{\\Psi}(1) = \\mathbf{0}$.\n",
    "2. $\\mathbf{A}'\\mathbf{\\delta} = 0$.\n",
    "\n",
    "Finalmente, los  $h$ vectores de cointegración constituyen una base que genera un espacio de vectores de cointegración lo que nos dice que toda combinación lineal de los vectores de cointegración de la matriz $\\mathbf{A}$ es también un vector de cointegración. LLamemos $\\mathbf{B}$ la matriz $n \\times h$ donde $\\mathbf{BA'}$ es tambien una matriz de vectores de cointegración que cumple con:\n",
    "\n",
    "1. $\\mathbf{BA'}\\mathbf{\\Psi}(1) = \\mathbf{0}$.\n",
    "2. $\\mathbf{BA'}\\mathbf{\\delta} = 0$."
   ]
  },
  {
   "cell_type": "markdown",
   "metadata": {},
   "source": [
    "### 8.5 Implicancias de la cointegración en la representación VAR(p)"
   ]
  },
  {
   "cell_type": "markdown",
   "metadata": {},
   "source": [
    "Puede verse en Hamilton(1994) que si existe una relación de cointegracion en el proceso vectorial $\\mathbf{y}_t$ que es I(1) entonces no es aconsejable representar la dinámica del proceso a través de un VAR en diferencias; sin embargo, si es posible hacerlo en un VAR en niveles. Supangamos que $\\mathbf{y}_t$ sigue un proceso VAR(p):\n",
    "\n",
    "$$\\mathbf{\\Phi}(L)\\mathbf{y}_t = \\mathbf{\\alpha} + \\mathbf{\\epsilon}_t$$\n",
    "\n",
    "donde:\n",
    "\n",
    "$$\\mathbf{\\Phi}(L) = \\mathbf{I_n - \\Phi L - \\Phi_2 L^2 - \\dots - \\Phi_p L^p}$$\n",
    "\n",
    "Supongamos que $\\mathbf{\\Delta y_t}$ tiene la representación de Wold:\n",
    "\n",
    "$$(1 - L) \\mathbf{y}_t = \\mathbf{\\delta} + \\mathbf{\\Psi}(L)\\mathbf{\\epsilon}_t$$\n",
    "\n",
    "Esto nos lleva a concluir que:\n",
    "\n",
    "$$(1 - L)\\mathbf{\\epsilon}_t = \\mathbf{\\Phi}(1)\\mathbf{\\delta} + \\mathbf{\\Phi}(L)\\mathbf{\\Psi}(L)\\mathbf{\\epsilon}_t$$\n",
    "\n",
    "para que esto se cumpla para todos los valores posibles de $\\mathbf{\\epsilon}_t$ entonces es necesario que:\n",
    "\n",
    "1. $\\mathbf{\\Phi}(1)\\mathbf{\\delta} = \\mathbf{0}$\n",
    "\n",
    "En segundo lugar, se tiene que:\n",
    "\n",
    "$$(1 - z) \\mathbf{I}_n = \\mathbf{\\Phi}(z)\\mathbf{\\Psi}(z)$$\n",
    "\n",
    "para todos los valores $z$, en particular si escogemos $z = 1$, tenemos:\n",
    "\n",
    "2. $\\mathbf{\\Phi}(1)\\mathbf{\\Psi}(1) = 0$\n",
    "\n",
    "Lo que nos dice que al cumplir las condiciones 1 y 2 la matriz de coeficientes $\\mathbf{\\Phi}(1)$ es igual a todas las combinaciones lineales de vectores de cointegracion del proceso $\\mathbf{y}_t$, es decir:\n",
    "\n",
    "$$\\mathbf{\\Phi}(1) = \\mathbf{BA'}$$\n",
    "\n",
    "Entonces un proceso $\\mathbf{y}_t$ cointegrado puede ser representado a través de un VAR en niveles."
   ]
  },
  {
   "cell_type": "markdown",
   "metadata": {},
   "source": [
    "### 8.6 Representación de Corrección de Errores"
   ]
  },
  {
   "cell_type": "markdown",
   "metadata": {},
   "source": [
    "Hemos visto que el proceso $\\mathbf{y}_t$ I(1) y cointegrado y posee tando una representación VMA($\\infty$) en primeras diferencias como tambien una representación VAR(p). Adicionalmente gracias al **teorema de representación de Granger** este proceso tiene una representación VECM. \n",
    "\n",
    "Hemos visto que la representación VAR(p) puede expresarse como:\n",
    "\n",
    "$$\\mathbf{y}_t = \\mathbf{\\zeta}_1 \\mathbf{\\Delta y_{t - 1}} + \\mathbf{\\zeta}_2 \\mathbf{\\Delta y_{t - 2}} + \\dots + \\mathbf{\\zeta}_{p - 1}\\mathbf{\\Delta y_{t - p + 1}} + \\mathbf{\\alpha} + \\mathbf{\\rho}\\mathbf{y}_{t - 1} + \\mathbf{\\epsilon}_t$$\n",
    "\n",
    "Restando a ambos lados $\\mathbf{y}_{t - 1}$ tenemos:\n",
    "\n",
    "$$\\mathbf{y}_t = \\mathbf{\\zeta}_1 \\mathbf{\\Delta y_{t - 1}} + \\mathbf{\\zeta}_2 \\mathbf{\\Delta y_{t - 2}} + \\dots + \\mathbf{\\zeta}_{p - 1}\\mathbf{\\Delta y_{t - p + 1}} + \\mathbf{\\alpha} - \\mathbf{\\Phi}(1)\\mathbf{y}_{t - 1} + \\mathbf{\\epsilon}_t$$\n",
    "\n",
    "Como existen $h$ relaciones de cointegración esto puede expresarse como:\n",
    "\n",
    "$$\\mathbf{y}_t = \\mathbf{\\zeta}_1 \\mathbf{\\Delta y_{t - 1}} + \\mathbf{\\zeta}_2 \\mathbf{\\Delta y_{t - 2}} + \\dots + \\mathbf{\\zeta}_{p - 1}\\mathbf{\\Delta y_{t - p + 1}} + \\mathbf{\\alpha} - \\mathbf{BA'}\\mathbf{y}_{t - 1} + \\mathbf{\\epsilon}_t$$\n",
    "\n",
    "Expresando $\\mathbf{z}_{t - 1} = \\mathbf{A'y_{t - 1}}$ que es estacionario tenemos la representación VECM:\n",
    "\n",
    "$$\\mathbf{y}_t = \\mathbf{\\zeta}_1 \\mathbf{\\Delta y_{t - 1}} + \\mathbf{\\zeta}_2 \\mathbf{\\Delta y_{t - 2}} + \\dots + \\mathbf{\\zeta}_{p - 1}\\mathbf{\\Delta y_{t - p + 1}} + \\mathbf{\\alpha} - \\mathbf{B}\\mathbf{z}_{t - 1} + \\mathbf{\\epsilon}_t$$\n",
    "\n",
    "donde $B$ es la matriz de ajuste de desviaciónes de largo plazo representadas por $\\mathbf{z}_t$."
   ]
  },
  {
   "cell_type": "markdown",
   "metadata": {},
   "source": [
    "### 8.7 Pruebas de Cointegración"
   ]
  },
  {
   "cell_type": "markdown",
   "metadata": {},
   "source": [
    "#### a) Prueba de Engle y Granger"
   ]
  },
  {
   "cell_type": "markdown",
   "metadata": {},
   "source": [
    "Considerando la descomposición de Beveridge-Nelson y un vector de cointegración $\\mathbf{a}$ tenemos:\n",
    "\n",
    "$$\\mathbf{a'}\\mathbf{y}_t = \\mu + z_t$$\n",
    "\n",
    "donde $z_t$ es un proceso estacionario. Normalicemos el vector $\\mathbf{a}$ de la siguiente forma:\n",
    "\n",
    "$$\\mathbf{a} = \\left[\\begin{array}{c} a_1 \\\\\n",
    "                                      a_2 \\\\\n",
    "                                      \\vdots \\\\\n",
    "                                      a_n \\end{array}\\right] = \\left[\\begin{array}{c} 1 \\\\\n",
    "                                                                                      \\gamma_1 \\\\\n",
    "                                                                                      \\vdots \\\\\n",
    "                                                                                      \\gamma_{n - 1}\\end{array}\\right]$$"
   ]
  },
  {
   "cell_type": "markdown",
   "metadata": {},
   "source": [
    "Cabe recalcar que esta normalización es arbitraria. Se podría haber escogido cualquiera de los componentes del vector de cointegración $\\mathbf{a}$ e igualarlo a 1. La relación de cointegración sería:\n",
    "\n",
    "$$y_{1t} = \\mu + \\mathbf{\\gamma}\\mathbf{y}_{2t} + z_t$$\n",
    "\n",
    "donde $\\mathbf{y}_{2t}$ es el vector de variables restantes de $\\mathbf{y}_t$. La prueba Engle y Granger tiene los siguientes pasos:\n",
    "\n",
    "1. Estimar la ecuación descrita por MCO y obtener los residuos.\n",
    "2. Efectuar una prueba de raíz unitaria a los residuos y verificar que no tengan raíz unitaria para que se verifique la cointegración.\n",
    "\n",
    "La desventaja de esta prueba es que es sensible a la normalización del vector de cointegración."
   ]
  },
  {
   "cell_type": "markdown",
   "metadata": {},
   "source": [
    "#### b) Prueba de Phillips Ouliaris"
   ]
  },
  {
   "cell_type": "markdown",
   "metadata": {},
   "source": [
    "Esta prueba es similar a la de Engle y Granger ya que parte de la misma regresión MCO. La ventaja de esta prueba es que Phillips & Ouliaris calculan la distribución asintótica del estadístico $ADF_t$ y además esta prueba es robusta ante diferentes normalizaciones del vector de cointegración."
   ]
  },
  {
   "cell_type": "markdown",
   "metadata": {},
   "source": [
    "#### c) Prueba de Johansen"
   ]
  },
  {
   "cell_type": "markdown",
   "metadata": {},
   "source": [
    "La prueba de Johansen trata de determinar el número de vectores de cointegración presentes en la especificación de corrección de errores ya expuesta. Se concentra en determinar el rango de la matriz $\\mathbf{Phi}(1) = \\mathbf{BA'}$ que nos dará el número de vectores de cointegración del proceso. \n",
    "\n",
    "Esta prueba es robusta ante distintas normalizaciones del vector de cointegración."
   ]
  },
  {
   "cell_type": "markdown",
   "metadata": {},
   "source": [
    "Ilustremos esto con las series en logaritmos del PIB de Bolivia y del Consumo."
   ]
  },
  {
   "cell_type": "code",
   "execution_count": 114,
   "metadata": {},
   "outputs": [],
   "source": [
    "library(readxl)"
   ]
  },
  {
   "cell_type": "code",
   "execution_count": 116,
   "metadata": {},
   "outputs": [],
   "source": [
    "setwd(\"..\")"
   ]
  },
  {
   "cell_type": "code",
   "execution_count": 117,
   "metadata": {},
   "outputs": [
    {
     "name": "stderr",
     "output_type": "stream",
     "text": [
      "New names:\n",
      "* `` -> ...1\n",
      "* `` -> ...2\n",
      "* `` -> ...3\n",
      "* `` -> ...4\n",
      "* `` -> ...5\n",
      "* ...\n",
      "\n",
      "New names:\n",
      "* `` -> ...1\n",
      "* `` -> ...2\n",
      "* `` -> ...3\n",
      "* `` -> ...4\n",
      "* `` -> ...5\n",
      "* ...\n",
      "\n"
     ]
    }
   ],
   "source": [
    "pib <- read_xlsx(\"./Datos/PIB2.xlsx\", sheet = 1, range = \"B11:AG11\", col_names = FALSE)\n",
    "cons <- read_xlsx(\"./Datos/PIB2.xlsx\", sheet = 1, range = \"B13:AG13\", col_names = FALSE)"
   ]
  },
  {
   "cell_type": "code",
   "execution_count": 118,
   "metadata": {},
   "outputs": [],
   "source": [
    "Fecha <- seq(as.Date(\"01-01-1988\", \"%d-%m-%Y\"), as.Date(\"01-01-2019\", \"%d-%m-%Y\"), by = \"year\")"
   ]
  },
  {
   "cell_type": "code",
   "execution_count": 119,
   "metadata": {},
   "outputs": [],
   "source": [
    "datos <- data.frame(Fecha = Fecha, C = t(log(cons)), Y = t(log(pib)))"
   ]
  },
  {
   "cell_type": "code",
   "execution_count": 121,
   "metadata": {},
   "outputs": [],
   "source": [
    "library(ggplot2)"
   ]
  },
  {
   "cell_type": "code",
   "execution_count": 122,
   "metadata": {},
   "outputs": [
    {
     "data": {
      "image/png": "[encoded data removed]",
      "text/plain": [
       "plot without title"
      ]
     },
     "metadata": {
      "image/png": {
       "height": 420,
       "width": 420
      }
     },
     "output_type": "display_data"
    }
   ],
   "source": [
    "g <- ggplot(data = datos, aes(x = Fecha)) \n",
    "g + geom_line(aes(y = Y)) + geom_line(aes(y = C), colour = \"blue\")"
   ]
  },
  {
   "cell_type": "code",
   "execution_count": 123,
   "metadata": {},
   "outputs": [],
   "source": [
    "library(urca)"
   ]
  },
  {
   "cell_type": "markdown",
   "metadata": {},
   "source": [
    "El primer paso es verificar si ambas variables tienen raíces unitarias:"
   ]
  },
  {
   "cell_type": "code",
   "execution_count": 124,
   "metadata": {},
   "outputs": [],
   "source": [
    "adf_pib <- ur.df(datos$Y, type = c(\"drift\"), selectlags = c(\"BIC\"))"
   ]
  },
  {
   "cell_type": "code",
   "execution_count": 125,
   "metadata": {},
   "outputs": [
    {
     "data": {
      "text/plain": [
       "\n",
       "############################################### \n",
       "# Augmented Dickey-Fuller Test Unit Root Test # \n",
       "############################################### \n",
       "\n",
       "Test regression drift \n",
       "\n",
       "\n",
       "Call:\n",
       "lm(formula = z.diff ~ z.lag.1 + 1 + z.diff.lag)\n",
       "\n",
       "Residuals:\n",
       "      Min        1Q    Median        3Q       Max \n",
       "-0.038405 -0.002342  0.002792  0.006560  0.021658 \n",
       "\n",
       "Coefficients:\n",
       "             Estimate Std. Error t value Pr(>|t|)  \n",
       "(Intercept) -0.011692   0.122757  -0.095   0.9248  \n",
       "z.lag.1      0.002220   0.007318   0.303   0.7640  \n",
       "z.diff.lag   0.343589   0.194990   1.762   0.0894 .\n",
       "---\n",
       "Signif. codes:  0 '***' 0.001 '**' 0.01 '*' 0.05 '.' 0.1 ' ' 1\n",
       "\n",
       "Residual standard error: 0.01318 on 27 degrees of freedom\n",
       "Multiple R-squared:  0.1256,\tAdjusted R-squared:  0.06082 \n",
       "F-statistic: 1.939 on 2 and 27 DF,  p-value: 0.1633\n",
       "\n",
       "\n",
       "Value of test-statistic is: 0.3033 5.1987 \n",
       "\n",
       "Critical values for test statistics: \n",
       "      1pct  5pct 10pct\n",
       "tau2 -3.58 -2.93 -2.60\n",
       "phi1  7.06  4.86  3.94\n"
      ]
     },
     "metadata": {},
     "output_type": "display_data"
    }
   ],
   "source": [
    "summary(adf_pib)"
   ]
  },
  {
   "cell_type": "code",
   "execution_count": 126,
   "metadata": {},
   "outputs": [],
   "source": [
    "adf_c <- ur.df(datos$C, type = c(\"drift\"), selectlags = c(\"BIC\"))"
   ]
  },
  {
   "cell_type": "code",
   "execution_count": 127,
   "metadata": {},
   "outputs": [
    {
     "data": {
      "text/plain": [
       "\n",
       "############################################### \n",
       "# Augmented Dickey-Fuller Test Unit Root Test # \n",
       "############################################### \n",
       "\n",
       "Test regression drift \n",
       "\n",
       "\n",
       "Call:\n",
       "lm(formula = z.diff ~ z.lag.1 + 1 + z.diff.lag)\n",
       "\n",
       "Residuals:\n",
       "       Min         1Q     Median         3Q        Max \n",
       "-0.0169498 -0.0043015  0.0001801  0.0043424  0.0193240 \n",
       "\n",
       "Coefficients:\n",
       "             Estimate Std. Error t value Pr(>|t|)   \n",
       "(Intercept) -0.059772   0.101909  -0.587  0.56240   \n",
       "z.lag.1      0.004621   0.006271   0.737  0.46751   \n",
       "z.diff.lag   0.533764   0.167771   3.182  0.00367 **\n",
       "---\n",
       "Signif. codes:  0 '***' 0.001 '**' 0.01 '*' 0.05 '.' 0.1 ' ' 1\n",
       "\n",
       "Residual standard error: 0.009126 on 27 degrees of freedom\n",
       "Multiple R-squared:  0.4069,\tAdjusted R-squared:  0.363 \n",
       "F-statistic: 9.263 on 2 and 27 DF,  p-value: 0.000865\n",
       "\n",
       "\n",
       "Value of test-statistic is: 0.7369 4.1971 \n",
       "\n",
       "Critical values for test statistics: \n",
       "      1pct  5pct 10pct\n",
       "tau2 -3.58 -2.93 -2.60\n",
       "phi1  7.06  4.86  3.94\n"
      ]
     },
     "metadata": {},
     "output_type": "display_data"
    }
   ],
   "source": [
    "summary(adf_c)"
   ]
  },
  {
   "cell_type": "code",
   "execution_count": 128,
   "metadata": {},
   "outputs": [],
   "source": [
    "gls_pib <- ur.ers(datos$Y, type = \"DF-GLS\", model = \"constant\", lag.max = 1)"
   ]
  },
  {
   "cell_type": "code",
   "execution_count": 129,
   "metadata": {},
   "outputs": [
    {
     "data": {
      "text/plain": [
       "\n",
       "############################################### \n",
       "# Elliot, Rothenberg and Stock Unit Root Test # \n",
       "############################################### \n",
       "\n",
       "Test of type DF-GLS \n",
       "detrending of series with intercept \n",
       "\n",
       "\n",
       "Call:\n",
       "lm(formula = dfgls.form, data = data.dfgls)\n",
       "\n",
       "Residuals:\n",
       "      Min        1Q    Median        3Q       Max \n",
       "-0.041765 -0.001116  0.003977  0.009534  0.025974 \n",
       "\n",
       "Coefficients:\n",
       "              Estimate Std. Error t value Pr(>|t|)    \n",
       "yd.lag       -0.001748   0.008329   -0.21    0.835    \n",
       "yd.diff.lag1  0.936782   0.072909   12.85 2.92e-13 ***\n",
       "---\n",
       "Signif. codes:  0 '***' 0.001 '**' 0.01 '*' 0.05 '.' 0.1 ' ' 1\n",
       "\n",
       "Residual standard error: 0.01522 on 28 degrees of freedom\n",
       "Multiple R-squared:  0.8794,\tAdjusted R-squared:  0.8708 \n",
       "F-statistic: 102.1 on 2 and 28 DF,  p-value: 1.376e-13\n",
       "\n",
       "\n",
       "Value of test-statistic is: -0.2098 \n",
       "\n",
       "Critical values of DF-GLS are:\n",
       "                 1pct  5pct 10pct\n",
       "critical values -2.64 -1.95 -1.62\n"
      ]
     },
     "metadata": {},
     "output_type": "display_data"
    }
   ],
   "source": [
    "summary(gls_pib)"
   ]
  },
  {
   "cell_type": "code",
   "execution_count": 130,
   "metadata": {},
   "outputs": [],
   "source": [
    "gls_c <- ur.ers(datos$C, type = \"DF-GLS\", model = \"constant\", lag.max = 1)"
   ]
  },
  {
   "cell_type": "code",
   "execution_count": 131,
   "metadata": {},
   "outputs": [
    {
     "data": {
      "text/plain": [
       "\n",
       "############################################### \n",
       "# Elliot, Rothenberg and Stock Unit Root Test # \n",
       "############################################### \n",
       "\n",
       "Test of type DF-GLS \n",
       "detrending of series with intercept \n",
       "\n",
       "\n",
       "Call:\n",
       "lm(formula = dfgls.form, data = data.dfgls)\n",
       "\n",
       "Residuals:\n",
       "      Min        1Q    Median        3Q       Max \n",
       "-0.023607 -0.003343 -0.000123  0.007799  0.020577 \n",
       "\n",
       "Coefficients:\n",
       "              Estimate Std. Error t value Pr(>|t|)    \n",
       "yd.lag       -0.002989   0.006354   -0.47    0.642    \n",
       "yd.diff.lag1  0.990321   0.055614   17.81   <2e-16 ***\n",
       "---\n",
       "Signif. codes:  0 '***' 0.001 '**' 0.01 '*' 0.05 '.' 0.1 ' ' 1\n",
       "\n",
       "Residual standard error: 0.01022 on 28 degrees of freedom\n",
       "Multiple R-squared:  0.9353,\tAdjusted R-squared:  0.9307 \n",
       "F-statistic: 202.4 on 2 and 28 DF,  p-value: < 2.2e-16\n",
       "\n",
       "\n",
       "Value of test-statistic is: -0.4704 \n",
       "\n",
       "Critical values of DF-GLS are:\n",
       "                 1pct  5pct 10pct\n",
       "critical values -2.64 -1.95 -1.62\n"
      ]
     },
     "metadata": {},
     "output_type": "display_data"
    }
   ],
   "source": [
    "summary(gls_c)"
   ]
  },
  {
   "cell_type": "markdown",
   "metadata": {},
   "source": [
    "Entonces el logaritmo del PIB y Consumo en Bolivia son procesos I(1)."
   ]
  },
  {
   "cell_type": "markdown",
   "metadata": {},
   "source": [
    "Efectuamos la prueba de Engle y Granger:"
   ]
  },
  {
   "cell_type": "code",
   "execution_count": 133,
   "metadata": {},
   "outputs": [],
   "source": [
    "ols_mod <- lm(C ~ Y, data = datos)"
   ]
  },
  {
   "cell_type": "code",
   "execution_count": 134,
   "metadata": {},
   "outputs": [
    {
     "data": {
      "text/plain": [
       "\n",
       "Call:\n",
       "lm(formula = C ~ Y, data = datos)\n",
       "\n",
       "Residuals:\n",
       "      Min        1Q    Median        3Q       Max \n",
       "-0.025112 -0.009947 -0.002799  0.009760  0.030947 \n",
       "\n",
       "Coefficients:\n",
       "            Estimate Std. Error t value Pr(>|t|)    \n",
       "(Intercept) 1.182971   0.113240   10.45 1.64e-11 ***\n",
       "Y           0.912238   0.006632  137.55  < 2e-16 ***\n",
       "---\n",
       "Signif. codes:  0 '***' 0.001 '**' 0.01 '*' 0.05 '.' 0.1 ' ' 1\n",
       "\n",
       "Residual standard error: 0.01382 on 30 degrees of freedom\n",
       "Multiple R-squared:  0.9984,\tAdjusted R-squared:  0.9984 \n",
       "F-statistic: 1.892e+04 on 1 and 30 DF,  p-value: < 2.2e-16\n"
      ]
     },
     "metadata": {},
     "output_type": "display_data"
    }
   ],
   "source": [
    "summary(ols_mod)"
   ]
  },
  {
   "cell_type": "code",
   "execution_count": 136,
   "metadata": {},
   "outputs": [],
   "source": [
    "datos$res <- ols_mod$residuals"
   ]
  },
  {
   "cell_type": "code",
   "execution_count": 137,
   "metadata": {},
   "outputs": [
    {
     "data": {
      "image/png": "[encoded data removed]",
      "text/plain": [
       "plot without title"
      ]
     },
     "metadata": {
      "image/png": {
       "height": 420,
       "width": 420
      }
     },
     "output_type": "display_data"
    }
   ],
   "source": [
    "g <- ggplot(data = datos, aes(x = Fecha, y = res))\n",
    "g + geom_line()"
   ]
  },
  {
   "cell_type": "code",
   "execution_count": 140,
   "metadata": {},
   "outputs": [],
   "source": [
    "adf_res <- ur.df(datos$res, type = c(\"none\"), selectlags = c(\"BIC\"))"
   ]
  },
  {
   "cell_type": "code",
   "execution_count": 141,
   "metadata": {},
   "outputs": [
    {
     "data": {
      "text/plain": [
       "\n",
       "############################################### \n",
       "# Augmented Dickey-Fuller Test Unit Root Test # \n",
       "############################################### \n",
       "\n",
       "Test regression none \n",
       "\n",
       "\n",
       "Call:\n",
       "lm(formula = z.diff ~ z.lag.1 - 1 + z.diff.lag)\n",
       "\n",
       "Residuals:\n",
       "      Min        1Q    Median        3Q       Max \n",
       "-0.010244 -0.005499 -0.002594  0.002857  0.022359 \n",
       "\n",
       "Coefficients:\n",
       "           Estimate Std. Error t value Pr(>|t|)  \n",
       "z.lag.1     -0.2925     0.1404  -2.083   0.0465 *\n",
       "z.diff.lag   0.3206     0.1779   1.802   0.0824 .\n",
       "---\n",
       "Signif. codes:  0 '***' 0.001 '**' 0.01 '*' 0.05 '.' 0.1 ' ' 1\n",
       "\n",
       "Residual standard error: 0.008432 on 28 degrees of freedom\n",
       "Multiple R-squared:  0.1764,\tAdjusted R-squared:  0.1176 \n",
       "F-statistic: 2.999 on 2 and 28 DF,  p-value: 0.06604\n",
       "\n",
       "\n",
       "Value of test-statistic is: -2.0828 \n",
       "\n",
       "Critical values for test statistics: \n",
       "      1pct  5pct 10pct\n",
       "tau1 -2.62 -1.95 -1.61\n"
      ]
     },
     "metadata": {},
     "output_type": "display_data"
    }
   ],
   "source": [
    "summary(adf_res)"
   ]
  },
  {
   "cell_type": "markdown",
   "metadata": {},
   "source": [
    "Hay evidencia que las series están cointegradas."
   ]
  },
  {
   "cell_type": "markdown",
   "metadata": {},
   "source": [
    "Efectuamos la prueba de Phillips Ouliaris:"
   ]
  },
  {
   "cell_type": "code",
   "execution_count": 154,
   "metadata": {},
   "outputs": [],
   "source": [
    "coin_po <- ca.po(as.matrix(datos[,2:3]), demean = \"none\", lag = \"short\", type = \"Pz\")"
   ]
  },
  {
   "cell_type": "code",
   "execution_count": 155,
   "metadata": {},
   "outputs": [
    {
     "data": {
      "text/plain": [
       "\n",
       "######################################## \n",
       "# Phillips and Ouliaris Unit Root Test # \n",
       "######################################## \n",
       "\n",
       "Test of type Pz \n",
       "detrending of series none \n",
       "\n",
       "Response C :\n",
       "\n",
       "Call:\n",
       "lm(formula = C ~ zr - 1)\n",
       "\n",
       "Residuals:\n",
       "       Min         1Q     Median         3Q        Max \n",
       "-0.0178205 -0.0064427 -0.0005024  0.0072918  0.0153025 \n",
       "\n",
       "Coefficients:\n",
       "    Estimate Std. Error t value Pr(>|t|)    \n",
       "zrC  0.75296    0.05474  13.756 3.06e-14 ***\n",
       "zrY  0.24463    0.05373   4.553 8.76e-05 ***\n",
       "---\n",
       "Signif. codes:  0 '***' 0.001 '**' 0.01 '*' 0.05 '.' 0.1 ' ' 1\n",
       "\n",
       "Residual standard error: 0.008891 on 29 degrees of freedom\n",
       "Multiple R-squared:      1,\tAdjusted R-squared:      1 \n",
       "F-statistic: 5.518e+07 on 2 and 29 DF,  p-value: < 2.2e-16\n",
       "\n",
       "\n",
       "Response Y :\n",
       "\n",
       "Call:\n",
       "lm(formula = Y ~ zr - 1)\n",
       "\n",
       "Residuals:\n",
       "      Min        1Q    Median        3Q       Max \n",
       "-0.035251 -0.006833  0.003159  0.008263  0.022348 \n",
       "\n",
       "Coefficients:\n",
       "    Estimate Std. Error t value Pr(>|t|)    \n",
       "zrC -0.09251    0.08129  -1.138    0.264    \n",
       "zrY  1.09316    0.07979  13.700  3.4e-14 ***\n",
       "---\n",
       "Signif. codes:  0 '***' 0.001 '**' 0.01 '*' 0.05 '.' 0.1 ' ' 1\n",
       "\n",
       "Residual standard error: 0.01321 on 29 degrees of freedom\n",
       "Multiple R-squared:      1,\tAdjusted R-squared:      1 \n",
       "F-statistic: 2.597e+07 on 2 and 29 DF,  p-value: < 2.2e-16\n",
       "\n",
       "\n",
       "\n",
       "Value of test-statistic is: 4.3255 \n",
       "\n",
       "Critical values of Pz are:\n",
       "                  10pct    5pct    1pct\n",
       "critical values 33.9267 40.8217 55.1911\n"
      ]
     },
     "metadata": {},
     "output_type": "display_data"
    }
   ],
   "source": [
    "summary(coin_po)"
   ]
  },
  {
   "cell_type": "markdown",
   "metadata": {},
   "source": [
    "Se acepta la hipótesis nula de no cointegración."
   ]
  },
  {
   "cell_type": "markdown",
   "metadata": {},
   "source": [
    "Finalmente aplicamos la prueba de Johansen:"
   ]
  },
  {
   "cell_type": "code",
   "execution_count": 156,
   "metadata": {},
   "outputs": [],
   "source": [
    "library(vars)"
   ]
  },
  {
   "cell_type": "code",
   "execution_count": 157,
   "metadata": {},
   "outputs": [],
   "source": [
    "var_lag <- VARselect(y = as.matrix(datos[, 2:3]), lag.max = 10, type = \"const\")"
   ]
  },
  {
   "cell_type": "code",
   "execution_count": 158,
   "metadata": {},
   "outputs": [
    {
     "data": {
      "text/html": [
       "<table>\n",
       "<caption>A matrix: 4 × 10 of type dbl</caption>\n",
       "<thead>\n",
       "\t<tr><th></th><th scope=col>1</th><th scope=col>2</th><th scope=col>3</th><th scope=col>4</th><th scope=col>5</th><th scope=col>6</th><th scope=col>7</th><th scope=col>8</th><th scope=col>9</th><th scope=col>10</th></tr>\n",
       "</thead>\n",
       "<tbody>\n",
       "\t<tr><th scope=row>AIC(n)</th><td>-1.931986e+01</td><td>-1.931244e+01</td><td>-1.913586e+01</td><td>-1.895011e+01</td><td>-1.870131e+01</td><td>-1.863321e+01</td><td>-1.900342e+01</td><td>-1.932531e+01</td><td>-1.921044e+01</td><td>-5.589077e+01</td></tr>\n",
       "\t<tr><th scope=row>HQ(n)</th><td>-1.924976e+01</td><td>-1.919561e+01</td><td>-1.897230e+01</td><td>-1.873983e+01</td><td>-1.844430e+01</td><td>-1.832947e+01</td><td>-1.865294e+01</td><td>-1.892810e+01</td><td>-1.876650e+01</td><td>-5.540010e+01</td></tr>\n",
       "\t<tr><th scope=row>SC(n)</th><td>-1.902230e+01</td><td>-1.881651e+01</td><td>-1.844156e+01</td><td>-1.805744e+01</td><td>-1.761027e+01</td><td>-1.734380e+01</td><td>-1.751563e+01</td><td>-1.763915e+01</td><td>-1.732591e+01</td><td>-5.380787e+01</td></tr>\n",
       "\t<tr><th scope=row>FPE(n)</th><td> 4.082991e-09</td><td> 4.166122e-09</td><td> 5.120103e-09</td><td> 6.519941e-09</td><td> 9.199749e-09</td><td> 1.150364e-08</td><td> 1.020206e-08</td><td> 1.119311e-08</td><td> 2.679470e-08</td><td> 2.166047e-23</td></tr>\n",
       "</tbody>\n",
       "</table>\n"
      ],
      "text/latex": [
       "A matrix: 4 × 10 of type dbl\n",
       "\\begin{tabular}{r|llllllllll}\n",
       "  & 1 & 2 & 3 & 4 & 5 & 6 & 7 & 8 & 9 & 10\\\\\n",
       "\\hline\n",
       "\tAIC(n) & -1.931986e+01 & -1.931244e+01 & -1.913586e+01 & -1.895011e+01 & -1.870131e+01 & -1.863321e+01 & -1.900342e+01 & -1.932531e+01 & -1.921044e+01 & -5.589077e+01\\\\\n",
       "\tHQ(n) & -1.924976e+01 & -1.919561e+01 & -1.897230e+01 & -1.873983e+01 & -1.844430e+01 & -1.832947e+01 & -1.865294e+01 & -1.892810e+01 & -1.876650e+01 & -5.540010e+01\\\\\n",
       "\tSC(n) & -1.902230e+01 & -1.881651e+01 & -1.844156e+01 & -1.805744e+01 & -1.761027e+01 & -1.734380e+01 & -1.751563e+01 & -1.763915e+01 & -1.732591e+01 & -5.380787e+01\\\\\n",
       "\tFPE(n) &  4.082991e-09 &  4.166122e-09 &  5.120103e-09 &  6.519941e-09 &  9.199749e-09 &  1.150364e-08 &  1.020206e-08 &  1.119311e-08 &  2.679470e-08 &  2.166047e-23\\\\\n",
       "\\end{tabular}\n"
      ],
      "text/markdown": [
       "\n",
       "A matrix: 4 × 10 of type dbl\n",
       "\n",
       "| <!--/--> | 1 | 2 | 3 | 4 | 5 | 6 | 7 | 8 | 9 | 10 |\n",
       "|---|---|---|---|---|---|---|---|---|---|---|\n",
       "| AIC(n) | -1.931986e+01 | -1.931244e+01 | -1.913586e+01 | -1.895011e+01 | -1.870131e+01 | -1.863321e+01 | -1.900342e+01 | -1.932531e+01 | -1.921044e+01 | -5.589077e+01 |\n",
       "| HQ(n) | -1.924976e+01 | -1.919561e+01 | -1.897230e+01 | -1.873983e+01 | -1.844430e+01 | -1.832947e+01 | -1.865294e+01 | -1.892810e+01 | -1.876650e+01 | -5.540010e+01 |\n",
       "| SC(n) | -1.902230e+01 | -1.881651e+01 | -1.844156e+01 | -1.805744e+01 | -1.761027e+01 | -1.734380e+01 | -1.751563e+01 | -1.763915e+01 | -1.732591e+01 | -5.380787e+01 |\n",
       "| FPE(n) |  4.082991e-09 |  4.166122e-09 |  5.120103e-09 |  6.519941e-09 |  9.199749e-09 |  1.150364e-08 |  1.020206e-08 |  1.119311e-08 |  2.679470e-08 |  2.166047e-23 |\n",
       "\n"
      ],
      "text/plain": [
       "       1             2             3             4             5            \n",
       "AIC(n) -1.931986e+01 -1.931244e+01 -1.913586e+01 -1.895011e+01 -1.870131e+01\n",
       "HQ(n)  -1.924976e+01 -1.919561e+01 -1.897230e+01 -1.873983e+01 -1.844430e+01\n",
       "SC(n)  -1.902230e+01 -1.881651e+01 -1.844156e+01 -1.805744e+01 -1.761027e+01\n",
       "FPE(n)  4.082991e-09  4.166122e-09  5.120103e-09  6.519941e-09  9.199749e-09\n",
       "       6             7             8             9             10           \n",
       "AIC(n) -1.863321e+01 -1.900342e+01 -1.932531e+01 -1.921044e+01 -5.589077e+01\n",
       "HQ(n)  -1.832947e+01 -1.865294e+01 -1.892810e+01 -1.876650e+01 -5.540010e+01\n",
       "SC(n)  -1.734380e+01 -1.751563e+01 -1.763915e+01 -1.732591e+01 -5.380787e+01\n",
       "FPE(n)  1.150364e-08  1.020206e-08  1.119311e-08  2.679470e-08  2.166047e-23"
      ]
     },
     "metadata": {},
     "output_type": "display_data"
    }
   ],
   "source": [
    "var_lag$criteria"
   ]
  },
  {
   "cell_type": "code",
   "execution_count": 163,
   "metadata": {},
   "outputs": [],
   "source": [
    "coint_jo <- ca.jo(as.matrix(datos[, 2:3]), type = \"eigen\", ecdet = \"none\", K = 2, spec = \"transitory\")"
   ]
  },
  {
   "cell_type": "code",
   "execution_count": 164,
   "metadata": {},
   "outputs": [
    {
     "data": {
      "text/plain": [
       "\n",
       "###################### \n",
       "# Johansen-Procedure # \n",
       "###################### \n",
       "\n",
       "Test type: maximal eigenvalue statistic (lambda max) , with linear trend \n",
       "\n",
       "Eigenvalues (lambda):\n",
       "[1] 2.727299e-01 8.266348e-05\n",
       "\n",
       "Values of teststatistic and critical values of test:\n",
       "\n",
       "         test 10pct  5pct  1pct\n",
       "r <= 1 | 0.00  6.50  8.18 11.65\n",
       "r = 0  | 9.55 12.91 14.90 19.19\n",
       "\n",
       "Eigenvectors, normalised to first column:\n",
       "(These are the cointegration relations)\n",
       "\n",
       "           C.l1       Y.l1\n",
       "C.l1  1.0000000  1.0000000\n",
       "Y.l1 -0.9360542 -0.8614138\n",
       "\n",
       "Weights W:\n",
       "(This is the loading matrix)\n",
       "\n",
       "          C.l1         Y.l1\n",
       "C.d -0.3907057 -0.001794949\n",
       "Y.d -0.2203887 -0.005717280\n"
      ]
     },
     "metadata": {},
     "output_type": "display_data"
    }
   ],
   "source": [
    "summary(coint_jo)"
   ]
  },
  {
   "cell_type": "code",
   "execution_count": 165,
   "metadata": {},
   "outputs": [],
   "source": [
    "coint_jo2 <- ca.jo(as.matrix(datos[, 2:3]), type = \"trace\", ecdet = \"none\", K = 2, spec = \"transitory\")"
   ]
  },
  {
   "cell_type": "code",
   "execution_count": 166,
   "metadata": {},
   "outputs": [
    {
     "data": {
      "text/plain": [
       "\n",
       "###################### \n",
       "# Johansen-Procedure # \n",
       "###################### \n",
       "\n",
       "Test type: trace statistic , with linear trend \n",
       "\n",
       "Eigenvalues (lambda):\n",
       "[1] 2.727299e-01 8.266348e-05\n",
       "\n",
       "Values of teststatistic and critical values of test:\n",
       "\n",
       "         test 10pct  5pct  1pct\n",
       "r <= 1 | 0.00  6.50  8.18 11.65\n",
       "r = 0  | 9.56 15.66 17.95 23.52\n",
       "\n",
       "Eigenvectors, normalised to first column:\n",
       "(These are the cointegration relations)\n",
       "\n",
       "           C.l1       Y.l1\n",
       "C.l1  1.0000000  1.0000000\n",
       "Y.l1 -0.9360542 -0.8614138\n",
       "\n",
       "Weights W:\n",
       "(This is the loading matrix)\n",
       "\n",
       "          C.l1         Y.l1\n",
       "C.d -0.3907057 -0.001794949\n",
       "Y.d -0.2203887 -0.005717280\n"
      ]
     },
     "metadata": {},
     "output_type": "display_data"
    }
   ],
   "source": [
    "summary(coint_jo2)"
   ]
  },
  {
   "cell_type": "markdown",
   "metadata": {},
   "source": [
    "### 8.8 Caso de Estudio: Relación entre tasas de interés de corto y largo plazo"
   ]
  },
  {
   "cell_type": "markdown",
   "metadata": {},
   "source": [
    "En los mercados financieros muchas veces se ve que movimientos en las tasas de corto plazo (por ejemplo una subida de la tasa de fondos federales de la reserva federal de Estados Unidos) se traduce en movimientos en la tasa de largo plazo. Muchos argumentan que las tasas de largo plazo son función de las tasas de corto plazo y de las expectativas sobre las tasas de corto plazo futuras. Verificaremos si esta relación es estable para el caso del TBill a 3 meses y el Bono a 1 año del Tesoro Americano y si un modelo VECM nos ayuda a pronosticar la Tasa del Bono a 1 año para todo el 2012."
   ]
  },
  {
   "cell_type": "code",
   "execution_count": 167,
   "metadata": {},
   "outputs": [],
   "source": [
    "if (!file.exists(\"./Datos/tasas.xls\")) {\n",
    "    url <- \"http://time-series.net/yahoo_site_admin/assets/docs/quarterly.7775706.xls\"\n",
    "    download.file(url, destfile = \"./Datos/tasas.xls\", mode = \"wb\")\n",
    "}"
   ]
  },
  {
   "cell_type": "code",
   "execution_count": 168,
   "metadata": {},
   "outputs": [],
   "source": [
    "datos <- read_xls(\"./Datos/tasas.xls\", sheet = 1, range = \"A1:D213\")"
   ]
  },
  {
   "cell_type": "code",
   "execution_count": 169,
   "metadata": {},
   "outputs": [
    {
     "data": {
      "text/html": [
       "<table>\n",
       "<caption>A tibble: 6 × 4</caption>\n",
       "<thead>\n",
       "\t<tr><th scope=col>DATE</th><th scope=col>FFR</th><th scope=col>Tbill</th><th scope=col>Tb1yr</th></tr>\n",
       "\t<tr><th scope=col>&lt;chr&gt;</th><th scope=col>&lt;dbl&gt;</th><th scope=col>&lt;dbl&gt;</th><th scope=col>&lt;dbl&gt;</th></tr>\n",
       "</thead>\n",
       "<tbody>\n",
       "\t<tr><td>1960Q1</td><td>3.93</td><td>3.87</td><td>4.57</td></tr>\n",
       "\t<tr><td>1960Q2</td><td>3.70</td><td>2.99</td><td>3.87</td></tr>\n",
       "\t<tr><td>1960Q3</td><td>2.94</td><td>2.36</td><td>3.07</td></tr>\n",
       "\t<tr><td>1960Q4</td><td>2.30</td><td>2.31</td><td>2.99</td></tr>\n",
       "\t<tr><td>1961Q1</td><td>2.00</td><td>2.35</td><td>2.87</td></tr>\n",
       "\t<tr><td>1961Q2</td><td>1.73</td><td>2.30</td><td>2.94</td></tr>\n",
       "</tbody>\n",
       "</table>\n"
      ],
      "text/latex": [
       "A tibble: 6 × 4\n",
       "\\begin{tabular}{llll}\n",
       " DATE & FFR & Tbill & Tb1yr\\\\\n",
       " <chr> & <dbl> & <dbl> & <dbl>\\\\\n",
       "\\hline\n",
       "\t 1960Q1 & 3.93 & 3.87 & 4.57\\\\\n",
       "\t 1960Q2 & 3.70 & 2.99 & 3.87\\\\\n",
       "\t 1960Q3 & 2.94 & 2.36 & 3.07\\\\\n",
       "\t 1960Q4 & 2.30 & 2.31 & 2.99\\\\\n",
       "\t 1961Q1 & 2.00 & 2.35 & 2.87\\\\\n",
       "\t 1961Q2 & 1.73 & 2.30 & 2.94\\\\\n",
       "\\end{tabular}\n"
      ],
      "text/markdown": [
       "\n",
       "A tibble: 6 × 4\n",
       "\n",
       "| DATE &lt;chr&gt; | FFR &lt;dbl&gt; | Tbill &lt;dbl&gt; | Tb1yr &lt;dbl&gt; |\n",
       "|---|---|---|---|\n",
       "| 1960Q1 | 3.93 | 3.87 | 4.57 |\n",
       "| 1960Q2 | 3.70 | 2.99 | 3.87 |\n",
       "| 1960Q3 | 2.94 | 2.36 | 3.07 |\n",
       "| 1960Q4 | 2.30 | 2.31 | 2.99 |\n",
       "| 1961Q1 | 2.00 | 2.35 | 2.87 |\n",
       "| 1961Q2 | 1.73 | 2.30 | 2.94 |\n",
       "\n"
      ],
      "text/plain": [
       "  DATE   FFR  Tbill Tb1yr\n",
       "1 1960Q1 3.93 3.87  4.57 \n",
       "2 1960Q2 3.70 2.99  3.87 \n",
       "3 1960Q3 2.94 2.36  3.07 \n",
       "4 1960Q4 2.30 2.31  2.99 \n",
       "5 1961Q1 2.00 2.35  2.87 \n",
       "6 1961Q2 1.73 2.30  2.94 "
      ]
     },
     "metadata": {},
     "output_type": "display_data"
    }
   ],
   "source": [
    "head(datos)"
   ]
  },
  {
   "cell_type": "code",
   "execution_count": 170,
   "metadata": {},
   "outputs": [
    {
     "data": {
      "text/html": [
       "<table>\n",
       "<caption>A tibble: 6 × 4</caption>\n",
       "<thead>\n",
       "\t<tr><th scope=col>DATE</th><th scope=col>FFR</th><th scope=col>Tbill</th><th scope=col>Tb1yr</th></tr>\n",
       "\t<tr><th scope=col>&lt;chr&gt;</th><th scope=col>&lt;dbl&gt;</th><th scope=col>&lt;dbl&gt;</th><th scope=col>&lt;dbl&gt;</th></tr>\n",
       "</thead>\n",
       "<tbody>\n",
       "\t<tr><td>2011Q3</td><td>0.08</td><td>0.02</td><td>0.13</td></tr>\n",
       "\t<tr><td>2011Q4</td><td>0.07</td><td>0.01</td><td>0.11</td></tr>\n",
       "\t<tr><td>2012Q1</td><td>0.10</td><td>0.07</td><td>0.16</td></tr>\n",
       "\t<tr><td>2012Q2</td><td>0.15</td><td>0.09</td><td>0.19</td></tr>\n",
       "\t<tr><td>2012Q3</td><td>0.14</td><td>0.10</td><td>0.18</td></tr>\n",
       "\t<tr><td>2012Q4</td><td>0.16</td><td>0.09</td><td>0.17</td></tr>\n",
       "</tbody>\n",
       "</table>\n"
      ],
      "text/latex": [
       "A tibble: 6 × 4\n",
       "\\begin{tabular}{llll}\n",
       " DATE & FFR & Tbill & Tb1yr\\\\\n",
       " <chr> & <dbl> & <dbl> & <dbl>\\\\\n",
       "\\hline\n",
       "\t 2011Q3 & 0.08 & 0.02 & 0.13\\\\\n",
       "\t 2011Q4 & 0.07 & 0.01 & 0.11\\\\\n",
       "\t 2012Q1 & 0.10 & 0.07 & 0.16\\\\\n",
       "\t 2012Q2 & 0.15 & 0.09 & 0.19\\\\\n",
       "\t 2012Q3 & 0.14 & 0.10 & 0.18\\\\\n",
       "\t 2012Q4 & 0.16 & 0.09 & 0.17\\\\\n",
       "\\end{tabular}\n"
      ],
      "text/markdown": [
       "\n",
       "A tibble: 6 × 4\n",
       "\n",
       "| DATE &lt;chr&gt; | FFR &lt;dbl&gt; | Tbill &lt;dbl&gt; | Tb1yr &lt;dbl&gt; |\n",
       "|---|---|---|---|\n",
       "| 2011Q3 | 0.08 | 0.02 | 0.13 |\n",
       "| 2011Q4 | 0.07 | 0.01 | 0.11 |\n",
       "| 2012Q1 | 0.10 | 0.07 | 0.16 |\n",
       "| 2012Q2 | 0.15 | 0.09 | 0.19 |\n",
       "| 2012Q3 | 0.14 | 0.10 | 0.18 |\n",
       "| 2012Q4 | 0.16 | 0.09 | 0.17 |\n",
       "\n"
      ],
      "text/plain": [
       "  DATE   FFR  Tbill Tb1yr\n",
       "1 2011Q3 0.08 0.02  0.13 \n",
       "2 2011Q4 0.07 0.01  0.11 \n",
       "3 2012Q1 0.10 0.07  0.16 \n",
       "4 2012Q2 0.15 0.09  0.19 \n",
       "5 2012Q3 0.14 0.10  0.18 \n",
       "6 2012Q4 0.16 0.09  0.17 "
      ]
     },
     "metadata": {},
     "output_type": "display_data"
    }
   ],
   "source": [
    "tail(datos)"
   ]
  },
  {
   "cell_type": "code",
   "execution_count": 171,
   "metadata": {},
   "outputs": [],
   "source": [
    "datos$Fecha <- seq(as.Date(\"01-01-1960\", \"%d-%m-%Y\"), as.Date(\"01-12-2012\", \"%d-%m-%Y\"), by = \"quarter\")"
   ]
  },
  {
   "cell_type": "code",
   "execution_count": 172,
   "metadata": {},
   "outputs": [
    {
     "data": {
      "image/png": "[encoded data removed]",
      "text/plain": [
       "plot without title"
      ]
     },
     "metadata": {
      "image/png": {
       "height": 420,
       "width": 420
      }
     },
     "output_type": "display_data"
    }
   ],
   "source": [
    "g <- ggplot(data = datos, aes(x = Fecha))\n",
    "g + geom_line(aes(y = Tb1yr)) + geom_line(aes(y = Tbill), colour = \"blue\")"
   ]
  },
  {
   "cell_type": "code",
   "execution_count": 208,
   "metadata": {},
   "outputs": [],
   "source": [
    "n <- nrow(datos)\n",
    "datos_mod <- datos[1:(n - 3), ]"
   ]
  },
  {
   "cell_type": "code",
   "execution_count": 209,
   "metadata": {},
   "outputs": [],
   "source": [
    "adf_Tb1 <- ur.df(datos_mod$Tb1yr, type = c(\"none\"), selectlags = c(\"BIC\"))"
   ]
  },
  {
   "cell_type": "code",
   "execution_count": 210,
   "metadata": {},
   "outputs": [
    {
     "data": {
      "text/plain": [
       "\n",
       "############################################### \n",
       "# Augmented Dickey-Fuller Test Unit Root Test # \n",
       "############################################### \n",
       "\n",
       "Test regression none \n",
       "\n",
       "\n",
       "Call:\n",
       "lm(formula = z.diff ~ z.lag.1 - 1 + z.diff.lag)\n",
       "\n",
       "Residuals:\n",
       "    Min      1Q  Median      3Q     Max \n",
       "-3.8607 -0.2417  0.0615  0.3892  3.8185 \n",
       "\n",
       "Coefficients:\n",
       "            Estimate Std. Error t value Pr(>|t|)   \n",
       "z.lag.1    -0.008900   0.008021  -1.110  0.26844   \n",
       "z.diff.lag  0.201619   0.068193   2.957  0.00348 **\n",
       "---\n",
       "Signif. codes:  0 '***' 0.001 '**' 0.01 '*' 0.05 '.' 0.1 ' ' 1\n",
       "\n",
       "Residual standard error: 0.7476 on 205 degrees of freedom\n",
       "Multiple R-squared:  0.04508,\tAdjusted R-squared:  0.03576 \n",
       "F-statistic: 4.838 on 2 and 205 DF,  p-value: 0.008848\n",
       "\n",
       "\n",
       "Value of test-statistic is: -1.1097 \n",
       "\n",
       "Critical values for test statistics: \n",
       "      1pct  5pct 10pct\n",
       "tau1 -2.58 -1.95 -1.62\n"
      ]
     },
     "metadata": {},
     "output_type": "display_data"
    }
   ],
   "source": [
    "summary(adf_Tb1)"
   ]
  },
  {
   "cell_type": "code",
   "execution_count": 211,
   "metadata": {},
   "outputs": [],
   "source": [
    "gls_Tb1 <- ur.ers(datos_mod$Tb1yr, type = \"DF-GLS\", model = \"constant\", lag.max = 1)"
   ]
  },
  {
   "cell_type": "code",
   "execution_count": 212,
   "metadata": {},
   "outputs": [
    {
     "data": {
      "text/plain": [
       "\n",
       "############################################### \n",
       "# Elliot, Rothenberg and Stock Unit Root Test # \n",
       "############################################### \n",
       "\n",
       "Test of type DF-GLS \n",
       "detrending of series with intercept \n",
       "\n",
       "\n",
       "Call:\n",
       "lm(formula = dfgls.form, data = data.dfgls)\n",
       "\n",
       "Residuals:\n",
       "    Min      1Q  Median      3Q     Max \n",
       "-3.7354 -0.2611  0.0094  0.3506  3.8907 \n",
       "\n",
       "Coefficients:\n",
       "             Estimate Std. Error t value Pr(>|t|)   \n",
       "yd.lag       -0.02931    0.01590  -1.844  0.06664 . \n",
       "yd.diff.lag1  0.21512    0.06839   3.145  0.00191 **\n",
       "---\n",
       "Signif. codes:  0 '***' 0.001 '**' 0.01 '*' 0.05 '.' 0.1 ' ' 1\n",
       "\n",
       "Residual standard error: 0.7437 on 205 degrees of freedom\n",
       "Multiple R-squared:  0.05501,\tAdjusted R-squared:  0.04579 \n",
       "F-statistic: 5.967 on 2 and 205 DF,  p-value: 0.003028\n",
       "\n",
       "\n",
       "Value of test-statistic is: -1.8439 \n",
       "\n",
       "Critical values of DF-GLS are:\n",
       "                 1pct  5pct 10pct\n",
       "critical values -2.58 -1.94 -1.62\n"
      ]
     },
     "metadata": {},
     "output_type": "display_data"
    }
   ],
   "source": [
    "summary(gls_Tb1)"
   ]
  },
  {
   "cell_type": "code",
   "execution_count": 213,
   "metadata": {},
   "outputs": [],
   "source": [
    "adf_Tb <- ur.df(datos_mod$Tbill, type = c(\"none\"), selectlags = c(\"BIC\"))"
   ]
  },
  {
   "cell_type": "code",
   "execution_count": 214,
   "metadata": {},
   "outputs": [
    {
     "data": {
      "text/plain": [
       "\n",
       "############################################### \n",
       "# Augmented Dickey-Fuller Test Unit Root Test # \n",
       "############################################### \n",
       "\n",
       "Test regression none \n",
       "\n",
       "\n",
       "Call:\n",
       "lm(formula = z.diff ~ z.lag.1 - 1 + z.diff.lag)\n",
       "\n",
       "Residuals:\n",
       "    Min      1Q  Median      3Q     Max \n",
       "-3.9380 -0.1397  0.0584  0.3665  4.6625 \n",
       "\n",
       "Coefficients:\n",
       "            Estimate Std. Error t value Pr(>|t|)    \n",
       "z.lag.1    -0.010356   0.008647  -1.198 0.232427    \n",
       "z.diff.lag  0.229296   0.067691   3.387 0.000846 ***\n",
       "---\n",
       "Signif. codes:  0 '***' 0.001 '**' 0.01 '*' 0.05 '.' 0.1 ' ' 1\n",
       "\n",
       "Residual standard error: 0.7349 on 205 degrees of freedom\n",
       "Multiple R-squared:  0.05745,\tAdjusted R-squared:  0.04825 \n",
       "F-statistic: 6.248 on 2 and 205 DF,  p-value: 0.002324\n",
       "\n",
       "\n",
       "Value of test-statistic is: -1.1977 \n",
       "\n",
       "Critical values for test statistics: \n",
       "      1pct  5pct 10pct\n",
       "tau1 -2.58 -1.95 -1.62\n"
      ]
     },
     "metadata": {},
     "output_type": "display_data"
    }
   ],
   "source": [
    "summary(adf_Tb)"
   ]
  },
  {
   "cell_type": "code",
   "execution_count": 215,
   "metadata": {},
   "outputs": [],
   "source": [
    "gls_Tb <- ur.ers(datos_mod$Tbill, type = \"DF-GLS\", model = \"constant\", lag.max = 1)"
   ]
  },
  {
   "cell_type": "code",
   "execution_count": 216,
   "metadata": {},
   "outputs": [
    {
     "data": {
      "text/plain": [
       "\n",
       "############################################### \n",
       "# Elliot, Rothenberg and Stock Unit Root Test # \n",
       "############################################### \n",
       "\n",
       "Test of type DF-GLS \n",
       "detrending of series with intercept \n",
       "\n",
       "\n",
       "Call:\n",
       "lm(formula = dfgls.form, data = data.dfgls)\n",
       "\n",
       "Residuals:\n",
       "    Min      1Q  Median      3Q     Max \n",
       "-3.7890 -0.1649  0.0144  0.3235  4.7444 \n",
       "\n",
       "Coefficients:\n",
       "             Estimate Std. Error t value Pr(>|t|)    \n",
       "yd.lag       -0.03304    0.01626  -2.031  0.04351 *  \n",
       "yd.diff.lag1  0.24352    0.06778   3.593  0.00041 ***\n",
       "---\n",
       "Signif. codes:  0 '***' 0.001 '**' 0.01 '*' 0.05 '.' 0.1 ' ' 1\n",
       "\n",
       "Residual standard error: 0.7301 on 205 degrees of freedom\n",
       "Multiple R-squared:  0.06958,\tAdjusted R-squared:  0.06051 \n",
       "F-statistic: 7.666 on 2 and 205 DF,  p-value: 0.0006159\n",
       "\n",
       "\n",
       "Value of test-statistic is: -2.0313 \n",
       "\n",
       "Critical values of DF-GLS are:\n",
       "                 1pct  5pct 10pct\n",
       "critical values -2.58 -1.94 -1.62\n"
      ]
     },
     "metadata": {},
     "output_type": "display_data"
    }
   ],
   "source": [
    "summary(gls_Tb)"
   ]
  },
  {
   "cell_type": "markdown",
   "metadata": {},
   "source": [
    "Concluimos que ambos procesos poseen raíz unitaria por lo que son I(1)."
   ]
  },
  {
   "cell_type": "markdown",
   "metadata": {},
   "source": [
    "Efectuamos la prueba de Engle - Granger:"
   ]
  },
  {
   "cell_type": "code",
   "execution_count": 217,
   "metadata": {},
   "outputs": [],
   "source": [
    "ols_mod <- lm(Tb1yr ~ Tbill, data = datos_mod)"
   ]
  },
  {
   "cell_type": "code",
   "execution_count": 218,
   "metadata": {},
   "outputs": [
    {
     "data": {
      "text/plain": [
       "\n",
       "Call:\n",
       "lm(formula = Tb1yr ~ Tbill, data = datos_mod)\n",
       "\n",
       "Residuals:\n",
       "     Min       1Q   Median       3Q      Max \n",
       "-1.31683 -0.22666 -0.02933  0.22940  1.74287 \n",
       "\n",
       "Coefficients:\n",
       "            Estimate Std. Error t value Pr(>|t|)    \n",
       "(Intercept)  0.28134    0.05081   5.538 9.24e-08 ***\n",
       "Tbill        1.05320    0.00862 122.177  < 2e-16 ***\n",
       "---\n",
       "Signif. codes:  0 '***' 0.001 '**' 0.01 '*' 0.05 '.' 0.1 ' ' 1\n",
       "\n",
       "Residual standard error: 0.3674 on 207 degrees of freedom\n",
       "Multiple R-squared:  0.9863,\tAdjusted R-squared:  0.9863 \n",
       "F-statistic: 1.493e+04 on 1 and 207 DF,  p-value: < 2.2e-16\n"
      ]
     },
     "metadata": {},
     "output_type": "display_data"
    }
   ],
   "source": [
    "summary(ols_mod)"
   ]
  },
  {
   "cell_type": "code",
   "execution_count": 219,
   "metadata": {},
   "outputs": [],
   "source": [
    "datos_mod$res <- ols_mod$residuals"
   ]
  },
  {
   "cell_type": "code",
   "execution_count": 220,
   "metadata": {},
   "outputs": [
    {
     "data": {
      "image/png": "[encoded data removed]",
      "text/plain": [
       "plot without title"
      ]
     },
     "metadata": {
      "image/png": {
       "height": 420,
       "width": 420
      }
     },
     "output_type": "display_data"
    }
   ],
   "source": [
    "g <- ggplot(data = datos_mod, aes(x = Fecha, y = res))\n",
    "g + geom_line()"
   ]
  },
  {
   "cell_type": "code",
   "execution_count": 221,
   "metadata": {},
   "outputs": [],
   "source": [
    "adf_res <- ur.df(datos_mod$res, type = c(\"none\"), selectlags = c(\"BIC\"))"
   ]
  },
  {
   "cell_type": "code",
   "execution_count": 222,
   "metadata": {},
   "outputs": [
    {
     "data": {
      "text/plain": [
       "\n",
       "############################################### \n",
       "# Augmented Dickey-Fuller Test Unit Root Test # \n",
       "############################################### \n",
       "\n",
       "Test regression none \n",
       "\n",
       "\n",
       "Call:\n",
       "lm(formula = z.diff ~ z.lag.1 - 1 + z.diff.lag)\n",
       "\n",
       "Residuals:\n",
       "     Min       1Q   Median       3Q      Max \n",
       "-0.98855 -0.13265 -0.03117  0.09674  1.47993 \n",
       "\n",
       "Coefficients:\n",
       "           Estimate Std. Error t value Pr(>|t|)    \n",
       "z.lag.1    -0.34721    0.05200  -6.678 2.23e-10 ***\n",
       "z.diff.lag  0.19251    0.06832   2.818  0.00531 ** \n",
       "---\n",
       "Signif. codes:  0 '***' 0.001 '**' 0.01 '*' 0.05 '.' 0.1 ' ' 1\n",
       "\n",
       "Residual standard error: 0.2538 on 205 degrees of freedom\n",
       "Multiple R-squared:  0.179,\tAdjusted R-squared:  0.1709 \n",
       "F-statistic: 22.34 on 2 and 205 DF,  p-value: 1.67e-09\n",
       "\n",
       "\n",
       "Value of test-statistic is: -6.6777 \n",
       "\n",
       "Critical values for test statistics: \n",
       "      1pct  5pct 10pct\n",
       "tau1 -2.58 -1.95 -1.62\n"
      ]
     },
     "metadata": {},
     "output_type": "display_data"
    }
   ],
   "source": [
    "summary(adf_res)"
   ]
  },
  {
   "cell_type": "code",
   "execution_count": 223,
   "metadata": {},
   "outputs": [],
   "source": [
    "gls_res <- ur.ers(datos_mod$res, type = \"DF-GLS\", model = \"constant\", lag.max = 1)"
   ]
  },
  {
   "cell_type": "code",
   "execution_count": 224,
   "metadata": {},
   "outputs": [
    {
     "data": {
      "text/plain": [
       "\n",
       "############################################### \n",
       "# Elliot, Rothenberg and Stock Unit Root Test # \n",
       "############################################### \n",
       "\n",
       "Test of type DF-GLS \n",
       "detrending of series with intercept \n",
       "\n",
       "\n",
       "Call:\n",
       "lm(formula = dfgls.form, data = data.dfgls)\n",
       "\n",
       "Residuals:\n",
       "     Min       1Q   Median       3Q      Max \n",
       "-1.03720 -0.18395 -0.07720  0.04363  1.40139 \n",
       "\n",
       "Coefficients:\n",
       "             Estimate Std. Error t value Pr(>|t|)    \n",
       "yd.lag       -0.28007    0.04802  -5.833  2.1e-08 ***\n",
       "yd.diff.lag1  0.16007    0.06895   2.322   0.0212 *  \n",
       "---\n",
       "Signif. codes:  0 '***' 0.001 '**' 0.01 '*' 0.05 '.' 0.1 ' ' 1\n",
       "\n",
       "Residual standard error: 0.2594 on 205 degrees of freedom\n",
       "Multiple R-squared:  0.1427,\tAdjusted R-squared:  0.1343 \n",
       "F-statistic: 17.06 on 2 and 205 DF,  p-value: 1.407e-07\n",
       "\n",
       "\n",
       "Value of test-statistic is: -5.833 \n",
       "\n",
       "Critical values of DF-GLS are:\n",
       "                 1pct  5pct 10pct\n",
       "critical values -2.58 -1.94 -1.62\n"
      ]
     },
     "metadata": {},
     "output_type": "display_data"
    }
   ],
   "source": [
    "summary(gls_res)"
   ]
  },
  {
   "cell_type": "markdown",
   "metadata": {},
   "source": [
    "Se rechaza la hipótesis nula de no cointegración. Existe una relación de largo plazo estable para la tasa de interés de corto plazo y la tasa de interés de largo plazo."
   ]
  },
  {
   "cell_type": "markdown",
   "metadata": {},
   "source": [
    "Aplicamos ahora la prueba PO:"
   ]
  },
  {
   "cell_type": "code",
   "execution_count": 225,
   "metadata": {},
   "outputs": [],
   "source": [
    "po_test <- ca.po(as.matrix(datos_mod[, 3:4]), demean = \"none\", lag = \"short\", type = \"Pz\")"
   ]
  },
  {
   "cell_type": "code",
   "execution_count": 226,
   "metadata": {},
   "outputs": [
    {
     "data": {
      "text/plain": [
       "\n",
       "######################################## \n",
       "# Phillips and Ouliaris Unit Root Test # \n",
       "######################################## \n",
       "\n",
       "Test of type Pz \n",
       "detrending of series none \n",
       "\n",
       "Response Tbill :\n",
       "\n",
       "Call:\n",
       "lm(formula = Tbill ~ zr - 1)\n",
       "\n",
       "Residuals:\n",
       "    Min      1Q  Median      3Q     Max \n",
       "-3.4801 -0.2136  0.0373  0.3653  4.5206 \n",
       "\n",
       "Coefficients:\n",
       "        Estimate Std. Error t value Pr(>|t|)    \n",
       "zrTbill   0.7863     0.1456   5.400 1.83e-07 ***\n",
       "zrTb1yr   0.1869     0.1328   1.407    0.161    \n",
       "---\n",
       "Signif. codes:  0 '***' 0.001 '**' 0.01 '*' 0.05 '.' 0.1 ' ' 1\n",
       "\n",
       "Residual standard error: 0.752 on 206 degrees of freedom\n",
       "Multiple R-squared:  0.9839,\tAdjusted R-squared:  0.9838 \n",
       "F-statistic:  6303 on 2 and 206 DF,  p-value: < 2.2e-16\n",
       "\n",
       "\n",
       "Response Tb1yr :\n",
       "\n",
       "Call:\n",
       "lm(formula = Tb1yr ~ zr - 1)\n",
       "\n",
       "Residuals:\n",
       "    Min      1Q  Median      3Q     Max \n",
       "-3.5815 -0.2806  0.0530  0.3935  3.7874 \n",
       "\n",
       "Coefficients:\n",
       "        Estimate Std. Error t value Pr(>|t|)    \n",
       "zrTbill  0.06605    0.14765   0.447    0.655    \n",
       "zrTb1yr  0.93178    0.13465   6.920 5.61e-11 ***\n",
       "---\n",
       "Signif. codes:  0 '***' 0.001 '**' 0.01 '*' 0.05 '.' 0.1 ' ' 1\n",
       "\n",
       "Residual standard error: 0.7626 on 206 degrees of freedom\n",
       "Multiple R-squared:  0.9862,\tAdjusted R-squared:  0.9861 \n",
       "F-statistic:  7385 on 2 and 206 DF,  p-value: < 2.2e-16\n",
       "\n",
       "\n",
       "\n",
       "Value of test-statistic is: 110.8845 \n",
       "\n",
       "Critical values of Pz are:\n",
       "                  10pct    5pct    1pct\n",
       "critical values 33.9267 40.8217 55.1911\n"
      ]
     },
     "metadata": {},
     "output_type": "display_data"
    }
   ],
   "source": [
    "summary(po_test)"
   ]
  },
  {
   "cell_type": "markdown",
   "metadata": {},
   "source": [
    "Se rechaza también la hipótesis nula de no cointegración.\n",
    "\n",
    "Finalmente efectuamos el test de Johansen."
   ]
  },
  {
   "cell_type": "code",
   "execution_count": 227,
   "metadata": {},
   "outputs": [],
   "source": [
    "var_lag <- VARselect(y = as.matrix(datos_mod[, 3:4]), lag.max = 10, type = \"const\")"
   ]
  },
  {
   "cell_type": "code",
   "execution_count": 228,
   "metadata": {},
   "outputs": [
    {
     "data": {
      "text/html": [
       "<table>\n",
       "<caption>A matrix: 4 × 10 of type dbl</caption>\n",
       "<thead>\n",
       "\t<tr><th></th><th scope=col>1</th><th scope=col>2</th><th scope=col>3</th><th scope=col>4</th><th scope=col>5</th><th scope=col>6</th><th scope=col>7</th><th scope=col>8</th><th scope=col>9</th><th scope=col>10</th></tr>\n",
       "</thead>\n",
       "<tbody>\n",
       "\t<tr><th scope=row>AIC(n)</th><td>-3.25560632</td><td>-3.32647022</td><td>-3.3582362</td><td>-3.4381229</td><td>-3.4323193</td><td>-3.57931420</td><td>-3.60912869</td><td>-3.60025431</td><td>-3.63019502</td><td>-3.61884032</td></tr>\n",
       "\t<tr><th scope=row>HQ(n)</th><td>-3.21541881</td><td>-3.25949105</td><td>-3.2644653</td><td>-3.3175604</td><td>-3.2849651</td><td>-3.40516835</td><td>-3.40819117</td><td>-3.37252512</td><td>-3.37567416</td><td>-3.33752778</td></tr>\n",
       "\t<tr><th scope=row>SC(n)</th><td>-3.15631069</td><td>-3.16097752</td><td>-3.1265464</td><td>-3.1402361</td><td>-3.0682353</td><td>-3.14903317</td><td>-3.11265058</td><td>-3.03757911</td><td>-3.00132275</td><td>-2.92377096</td></tr>\n",
       "\t<tr><th scope=row>FPE(n)</th><td> 0.03855761</td><td> 0.03592043</td><td> 0.0347986</td><td> 0.0321289</td><td> 0.0323192</td><td> 0.02790522</td><td> 0.02709095</td><td> 0.02733959</td><td> 0.02654197</td><td> 0.02685608</td></tr>\n",
       "</tbody>\n",
       "</table>\n"
      ],
      "text/latex": [
       "A matrix: 4 × 10 of type dbl\n",
       "\\begin{tabular}{r|llllllllll}\n",
       "  & 1 & 2 & 3 & 4 & 5 & 6 & 7 & 8 & 9 & 10\\\\\n",
       "\\hline\n",
       "\tAIC(n) & -3.25560632 & -3.32647022 & -3.3582362 & -3.4381229 & -3.4323193 & -3.57931420 & -3.60912869 & -3.60025431 & -3.63019502 & -3.61884032\\\\\n",
       "\tHQ(n) & -3.21541881 & -3.25949105 & -3.2644653 & -3.3175604 & -3.2849651 & -3.40516835 & -3.40819117 & -3.37252512 & -3.37567416 & -3.33752778\\\\\n",
       "\tSC(n) & -3.15631069 & -3.16097752 & -3.1265464 & -3.1402361 & -3.0682353 & -3.14903317 & -3.11265058 & -3.03757911 & -3.00132275 & -2.92377096\\\\\n",
       "\tFPE(n) &  0.03855761 &  0.03592043 &  0.0347986 &  0.0321289 &  0.0323192 &  0.02790522 &  0.02709095 &  0.02733959 &  0.02654197 &  0.02685608\\\\\n",
       "\\end{tabular}\n"
      ],
      "text/markdown": [
       "\n",
       "A matrix: 4 × 10 of type dbl\n",
       "\n",
       "| <!--/--> | 1 | 2 | 3 | 4 | 5 | 6 | 7 | 8 | 9 | 10 |\n",
       "|---|---|---|---|---|---|---|---|---|---|---|\n",
       "| AIC(n) | -3.25560632 | -3.32647022 | -3.3582362 | -3.4381229 | -3.4323193 | -3.57931420 | -3.60912869 | -3.60025431 | -3.63019502 | -3.61884032 |\n",
       "| HQ(n) | -3.21541881 | -3.25949105 | -3.2644653 | -3.3175604 | -3.2849651 | -3.40516835 | -3.40819117 | -3.37252512 | -3.37567416 | -3.33752778 |\n",
       "| SC(n) | -3.15631069 | -3.16097752 | -3.1265464 | -3.1402361 | -3.0682353 | -3.14903317 | -3.11265058 | -3.03757911 | -3.00132275 | -2.92377096 |\n",
       "| FPE(n) |  0.03855761 |  0.03592043 |  0.0347986 |  0.0321289 |  0.0323192 |  0.02790522 |  0.02709095 |  0.02733959 |  0.02654197 |  0.02685608 |\n",
       "\n"
      ],
      "text/plain": [
       "       1           2           3          4          5          6          \n",
       "AIC(n) -3.25560632 -3.32647022 -3.3582362 -3.4381229 -3.4323193 -3.57931420\n",
       "HQ(n)  -3.21541881 -3.25949105 -3.2644653 -3.3175604 -3.2849651 -3.40516835\n",
       "SC(n)  -3.15631069 -3.16097752 -3.1265464 -3.1402361 -3.0682353 -3.14903317\n",
       "FPE(n)  0.03855761  0.03592043  0.0347986  0.0321289  0.0323192  0.02790522\n",
       "       7           8           9           10         \n",
       "AIC(n) -3.60912869 -3.60025431 -3.63019502 -3.61884032\n",
       "HQ(n)  -3.40819117 -3.37252512 -3.37567416 -3.33752778\n",
       "SC(n)  -3.11265058 -3.03757911 -3.00132275 -2.92377096\n",
       "FPE(n)  0.02709095  0.02733959  0.02654197  0.02685608"
      ]
     },
     "metadata": {},
     "output_type": "display_data"
    }
   ],
   "source": [
    "var_lag$criteria"
   ]
  },
  {
   "cell_type": "code",
   "execution_count": 229,
   "metadata": {},
   "outputs": [],
   "source": [
    "coint_jo <- ca.jo(as.matrix(datos_mod[, 3:4]), type = \"eigen\", ecdet = \"none\", K = 6, spec = \"longrun\")"
   ]
  },
  {
   "cell_type": "code",
   "execution_count": 196,
   "metadata": {},
   "outputs": [
    {
     "data": {
      "text/plain": [
       "\n",
       "###################### \n",
       "# Johansen-Procedure # \n",
       "###################### \n",
       "\n",
       "Test type: maximal eigenvalue statistic (lambda max) , with linear trend \n",
       "\n",
       "Eigenvalues (lambda):\n",
       "[1] 0.152220749 0.006894654\n",
       "\n",
       "Values of teststatistic and critical values of test:\n",
       "\n",
       "          test 10pct  5pct  1pct\n",
       "r <= 1 |  1.42  6.50  8.18 11.65\n",
       "r = 0  | 33.85 12.91 14.90 19.19\n",
       "\n",
       "Eigenvectors, normalised to first column:\n",
       "(These are the cointegration relations)\n",
       "\n",
       "           Tbill.l7 Tb1yr.l7\n",
       "Tbill.l7  1.0000000  1.00000\n",
       "Tb1yr.l7 -0.9065769 -1.15577\n",
       "\n",
       "Weights W:\n",
       "(This is the loading matrix)\n",
       "\n",
       "          Tbill.l7   Tb1yr.l7\n",
       "Tbill.d -0.8473504 0.05604857\n",
       "Tb1yr.d -0.5073079 0.07324863\n"
      ]
     },
     "metadata": {},
     "output_type": "display_data"
    }
   ],
   "source": [
    "summary(coint_jo)"
   ]
  },
  {
   "cell_type": "code",
   "execution_count": 230,
   "metadata": {},
   "outputs": [],
   "source": [
    "coint_jo2 <- ca.jo(as.matrix(datos_mod[, 3:4]), type = \"trace\", ecdet = \"none\", K = 6, spec = \"longrun\")"
   ]
  },
  {
   "cell_type": "code",
   "execution_count": 231,
   "metadata": {},
   "outputs": [
    {
     "data": {
      "text/plain": [
       "\n",
       "###################### \n",
       "# Johansen-Procedure # \n",
       "###################### \n",
       "\n",
       "Test type: trace statistic , with linear trend \n",
       "\n",
       "Eigenvalues (lambda):\n",
       "[1] 0.22588359 0.01432324\n",
       "\n",
       "Values of teststatistic and critical values of test:\n",
       "\n",
       "          test 10pct  5pct  1pct\n",
       "r <= 1 |  2.93  6.50  8.18 11.65\n",
       "r = 0  | 54.90 15.66 17.95 23.52\n",
       "\n",
       "Eigenvectors, normalised to first column:\n",
       "(These are the cointegration relations)\n",
       "\n",
       "           Tbill.l6 Tb1yr.l6\n",
       "Tbill.l6  1.0000000  1.00000\n",
       "Tb1yr.l6 -0.9101234 -1.20833\n",
       "\n",
       "Weights W:\n",
       "(This is the loading matrix)\n",
       "\n",
       "          Tbill.l6   Tb1yr.l6\n",
       "Tbill.d -0.8843538 0.07214292\n",
       "Tb1yr.d -0.4654971 0.09196772\n"
      ]
     },
     "metadata": {},
     "output_type": "display_data"
    }
   ],
   "source": [
    "summary(coint_jo2)"
   ]
  },
  {
   "cell_type": "code",
   "execution_count": 232,
   "metadata": {},
   "outputs": [],
   "source": [
    "vecm_mod <- cajorls(coint_jo, r = 1)"
   ]
  },
  {
   "cell_type": "code",
   "execution_count": 233,
   "metadata": {},
   "outputs": [
    {
     "data": {
      "text/plain": [
       "Response Tbill.d :\n",
       "\n",
       "Call:\n",
       "lm(formula = Tbill.d ~ ect1 + constant + Tbill.dl1 + Tb1yr.dl1 + \n",
       "    Tbill.dl2 + Tb1yr.dl2 + Tbill.dl3 + Tb1yr.dl3 + Tbill.dl4 + \n",
       "    Tb1yr.dl4 + Tbill.dl5 + Tb1yr.dl5 - 1, data = data.mat)\n",
       "\n",
       "Residuals:\n",
       "    Min      1Q  Median      3Q     Max \n",
       "-3.4892 -0.2162  0.0230  0.2859  3.0327 \n",
       "\n",
       "Coefficients:\n",
       "            Estimate Std. Error t value Pr(>|t|)    \n",
       "ect1      -0.8843538  0.1950388  -4.534 1.02e-05 ***\n",
       "constant  -0.0398092  0.0465242  -0.856  0.39325    \n",
       "Tbill.dl1 -0.0009675  0.1990537  -0.005  0.99613    \n",
       "Tb1yr.dl1  0.3417479  0.1916837   1.783  0.07619 .  \n",
       "Tbill.dl2 -0.5447489  0.1981885  -2.749  0.00656 ** \n",
       "Tb1yr.dl2  0.0972035  0.1916481   0.507  0.61260    \n",
       "Tbill.dl3 -0.0371067  0.2130051  -0.174  0.86189    \n",
       "Tb1yr.dl3  0.3796738  0.2052035   1.850  0.06582 .  \n",
       "Tbill.dl4 -0.7879928  0.2194738  -3.590  0.00042 ***\n",
       "Tb1yr.dl4  0.5861811  0.2123256   2.761  0.00633 ** \n",
       "Tbill.dl5 -0.2131579  0.2156034  -0.989  0.32408    \n",
       "Tb1yr.dl5  0.4144907  0.2117265   1.958  0.05173 .  \n",
       "---\n",
       "Signif. codes:  0 '***' 0.001 '**' 0.01 '*' 0.05 '.' 0.1 ' ' 1\n",
       "\n",
       "Residual standard error: 0.6535 on 191 degrees of freedom\n",
       "Multiple R-squared:  0.3031,\tAdjusted R-squared:  0.2593 \n",
       "F-statistic: 6.921 on 12 and 191 DF,  p-value: 2.367e-10\n",
       "\n",
       "\n",
       "Response Tb1yr.d :\n",
       "\n",
       "Call:\n",
       "lm(formula = Tb1yr.d ~ ect1 + constant + Tbill.dl1 + Tb1yr.dl1 + \n",
       "    Tbill.dl2 + Tb1yr.dl2 + Tbill.dl3 + Tb1yr.dl3 + Tbill.dl4 + \n",
       "    Tb1yr.dl4 + Tbill.dl5 + Tb1yr.dl5 - 1, data = data.mat)\n",
       "\n",
       "Residuals:\n",
       "    Min      1Q  Median      3Q     Max \n",
       "-3.5986 -0.2650  0.0441  0.3567  2.4023 \n",
       "\n",
       "Coefficients:\n",
       "          Estimate Std. Error t value Pr(>|t|)  \n",
       "ect1      -0.46550    0.20713  -2.247   0.0258 *\n",
       "constant  -0.02901    0.04941  -0.587   0.5577  \n",
       "Tbill.dl1  0.12584    0.21139   0.595   0.5524  \n",
       "Tb1yr.dl1  0.19493    0.20357   0.958   0.3395  \n",
       "Tbill.dl2 -0.06373    0.21047  -0.303   0.7624  \n",
       "Tb1yr.dl2 -0.30763    0.20353  -1.511   0.1323  \n",
       "Tbill.dl3  0.22893    0.22621   1.012   0.3128  \n",
       "Tb1yr.dl3  0.09035    0.21792   0.415   0.6789  \n",
       "Tbill.dl4 -0.51416    0.23308  -2.206   0.0286 *\n",
       "Tb1yr.dl4  0.36944    0.22549   1.638   0.1030  \n",
       "Tbill.dl5  0.19848    0.22897   0.867   0.3871  \n",
       "Tb1yr.dl5 -0.06173    0.22485  -0.275   0.7840  \n",
       "---\n",
       "Signif. codes:  0 '***' 0.001 '**' 0.01 '*' 0.05 '.' 0.1 ' ' 1\n",
       "\n",
       "Residual standard error: 0.694 on 191 degrees of freedom\n",
       "Multiple R-squared:  0.2289,\tAdjusted R-squared:  0.1805 \n",
       "F-statistic: 4.726 on 12 and 191 DF,  p-value: 9.622e-07\n",
       "\n"
      ]
     },
     "metadata": {},
     "output_type": "display_data"
    }
   ],
   "source": [
    "summary(vecm_mod$rlm)"
   ]
  },
  {
   "cell_type": "code",
   "execution_count": 247,
   "metadata": {},
   "outputs": [
    {
     "name": "stderr",
     "output_type": "stream",
     "text": [
      "Registered S3 method overwritten by 'quantmod':\n",
      "  method            from\n",
      "  as.zoo.data.frame zoo \n",
      "\n"
     ]
    }
   ],
   "source": [
    "library(tsDyn)"
   ]
  },
  {
   "cell_type": "code",
   "execution_count": 250,
   "metadata": {},
   "outputs": [],
   "source": [
    "vecm_mod2 <- VECM(datos_mod[, 3:4], lag = 6, r = 1, include = \"const\", estim = \"2OLS\", LRinclude = \"none\")"
   ]
  },
  {
   "cell_type": "code",
   "execution_count": 256,
   "metadata": {},
   "outputs": [],
   "source": [
    "vecm_for <- predict(vecm_mod2, n.ahead = 4)"
   ]
  },
  {
   "cell_type": "code",
   "execution_count": 261,
   "metadata": {},
   "outputs": [],
   "source": [
    "datos_for <- datos[(n - 3):n, c(\"Fecha\", \"Tb1yr\")]"
   ]
  },
  {
   "cell_type": "code",
   "execution_count": 262,
   "metadata": {},
   "outputs": [],
   "source": [
    "datos_for$Tb1_for <- vecm_for[, 2]"
   ]
  },
  {
   "cell_type": "code",
   "execution_count": 263,
   "metadata": {},
   "outputs": [
    {
     "data": {
      "text/html": [
       "<table>\n",
       "<caption>A tibble: 4 × 3</caption>\n",
       "<thead>\n",
       "\t<tr><th scope=col>Fecha</th><th scope=col>Tb1yr</th><th scope=col>Tb1_for</th></tr>\n",
       "\t<tr><th scope=col>&lt;date&gt;</th><th scope=col>&lt;dbl&gt;</th><th scope=col>&lt;dbl&gt;</th></tr>\n",
       "</thead>\n",
       "<tbody>\n",
       "\t<tr><td>2012-01-01</td><td>0.16</td><td>0.2024376</td></tr>\n",
       "\t<tr><td>2012-04-01</td><td>0.19</td><td>0.1910723</td></tr>\n",
       "\t<tr><td>2012-07-01</td><td>0.18</td><td>0.2245458</td></tr>\n",
       "\t<tr><td>2012-10-01</td><td>0.17</td><td>0.2830813</td></tr>\n",
       "</tbody>\n",
       "</table>\n"
      ],
      "text/latex": [
       "A tibble: 4 × 3\n",
       "\\begin{tabular}{lll}\n",
       " Fecha & Tb1yr & Tb1\\_for\\\\\n",
       " <date> & <dbl> & <dbl>\\\\\n",
       "\\hline\n",
       "\t 2012-01-01 & 0.16 & 0.2024376\\\\\n",
       "\t 2012-04-01 & 0.19 & 0.1910723\\\\\n",
       "\t 2012-07-01 & 0.18 & 0.2245458\\\\\n",
       "\t 2012-10-01 & 0.17 & 0.2830813\\\\\n",
       "\\end{tabular}\n"
      ],
      "text/markdown": [
       "\n",
       "A tibble: 4 × 3\n",
       "\n",
       "| Fecha &lt;date&gt; | Tb1yr &lt;dbl&gt; | Tb1_for &lt;dbl&gt; |\n",
       "|---|---|---|\n",
       "| 2012-01-01 | 0.16 | 0.2024376 |\n",
       "| 2012-04-01 | 0.19 | 0.1910723 |\n",
       "| 2012-07-01 | 0.18 | 0.2245458 |\n",
       "| 2012-10-01 | 0.17 | 0.2830813 |\n",
       "\n"
      ],
      "text/plain": [
       "  Fecha      Tb1yr Tb1_for  \n",
       "1 2012-01-01 0.16  0.2024376\n",
       "2 2012-04-01 0.19  0.1910723\n",
       "3 2012-07-01 0.18  0.2245458\n",
       "4 2012-10-01 0.17  0.2830813"
      ]
     },
     "metadata": {},
     "output_type": "display_data"
    }
   ],
   "source": [
    "datos_for"
   ]
  },
  {
   "cell_type": "code",
   "execution_count": 264,
   "metadata": {},
   "outputs": [],
   "source": [
    "rmse <- sqrt(mean((datos_for$Tb1yr - datos_for$Tb1_for)^2))"
   ]
  },
  {
   "cell_type": "code",
   "execution_count": 265,
   "metadata": {},
   "outputs": [
    {
     "data": {
      "text/html": [
       "0.0643696493030693"
      ],
      "text/latex": [
       "0.0643696493030693"
      ],
      "text/markdown": [
       "0.0643696493030693"
      ],
      "text/plain": [
       "[1] 0.06436965"
      ]
     },
     "metadata": {},
     "output_type": "display_data"
    }
   ],
   "source": [
    "rmse"
   ]
  }
 ],
 "metadata": {
  "kernelspec": {
   "display_name": "R",
   "language": "R",
   "name": "ir"
  },
  "language_info": {
   "codemirror_mode": "r",
   "file_extension": ".r",
   "mimetype": "text/x-r-source",
   "name": "R",
   "pygments_lexer": "r",
   "version": "4.0.3"
  }
 },
 "nbformat": 4,
 "nbformat_minor": 4
}
