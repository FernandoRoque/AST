{
 "cells": [
  {
   "cell_type": "markdown",
   "metadata": {},
   "source": [
    "# 9. Modelos de cambio de régimen en base a Cadenas de Markov"
   ]
  },
  {
   "cell_type": "markdown",
   "metadata": {},
   "source": [
    "Observemos la evolución del PIB trimestral para Bolivia."
   ]
  },
  {
   "cell_type": "code",
   "execution_count": 2,
   "metadata": {},
   "outputs": [],
   "source": [
    "setwd(\"..\")"
   ]
  },
  {
   "cell_type": "code",
   "execution_count": 4,
   "metadata": {},
   "outputs": [],
   "source": [
    "if (!file.exists(\"./Datos/PIBTrim.xlsx\")) {\n",
    "    url <- \"https://nube.ine.gob.bo/index.php/s/I0Wq5MdeiEwdZEC/download\"\n",
    "    download.file(url, destfile = \"./Datos/PIBTrim.xlsx\", mode = \"wb\")\n",
    "}"
   ]
  },
  {
   "cell_type": "code",
   "execution_count": 5,
   "metadata": {},
   "outputs": [],
   "source": [
    "library(readxl)"
   ]
  },
  {
   "cell_type": "code",
   "execution_count": 6,
   "metadata": {},
   "outputs": [],
   "source": [
    "pib <- read_xlsx(\"./Datos/PIBTrim.xlsx\", sheet = 1, range = \"A10:H163\")"
   ]
  },
  {
   "cell_type": "code",
   "execution_count": 8,
   "metadata": {},
   "outputs": [],
   "source": [
    "datos <- data.frame(Fecha = pib[, 1], pib = pib[, 8])"
   ]
  },
  {
   "cell_type": "code",
   "execution_count": 17,
   "metadata": {},
   "outputs": [],
   "source": [
    "colnames(datos) <- c(\"Fecha\", \"PIB\")"
   ]
  },
  {
   "cell_type": "code",
   "execution_count": 43,
   "metadata": {},
   "outputs": [],
   "source": [
    "filas <- which(datos$Fecha == \"I   Trimestre\" | datos$Fecha == \"II  Trimestre\" | \n",
    "               datos$Fecha == \"III Trimestre\" | datos$Fecha == \"IV Trimestre\")"
   ]
  },
  {
   "cell_type": "code",
   "execution_count": 45,
   "metadata": {},
   "outputs": [],
   "source": [
    "datos <- datos[filas, ]"
   ]
  },
  {
   "cell_type": "code",
   "execution_count": 47,
   "metadata": {},
   "outputs": [],
   "source": [
    "datos$Fecha <- seq(as.Date(\"01-01-1990\", \"%d-%m-%Y\"), as.Date(\"01-04-2020\", \"%d-%m-%Y\"), by = \"quarter\")"
   ]
  },
  {
   "cell_type": "code",
   "execution_count": 48,
   "metadata": {},
   "outputs": [
    {
     "data": {
      "text/html": [
       "<table>\n",
       "<caption>A data.frame: 6 × 2</caption>\n",
       "<thead>\n",
       "\t<tr><th></th><th scope=col>Fecha</th><th scope=col>PIB</th></tr>\n",
       "\t<tr><th></th><th scope=col>&lt;date&gt;</th><th scope=col>&lt;dbl&gt;</th></tr>\n",
       "</thead>\n",
       "<tbody>\n",
       "\t<tr><th scope=row>2</th><td>1990-01-01</td><td>3587595</td></tr>\n",
       "\t<tr><th scope=row>3</th><td>1990-04-01</td><td>3926068</td></tr>\n",
       "\t<tr><th scope=row>4</th><td>1990-07-01</td><td>3934133</td></tr>\n",
       "\t<tr><th scope=row>5</th><td>1990-10-01</td><td>3995340</td></tr>\n",
       "\t<tr><th scope=row>7</th><td>1991-01-01</td><td>3677806</td></tr>\n",
       "\t<tr><th scope=row>8</th><td>1991-04-01</td><td>4217984</td></tr>\n",
       "</tbody>\n",
       "</table>\n"
      ],
      "text/latex": [
       "A data.frame: 6 × 2\n",
       "\\begin{tabular}{r|ll}\n",
       "  & Fecha & PIB\\\\\n",
       "  & <date> & <dbl>\\\\\n",
       "\\hline\n",
       "\t2 & 1990-01-01 & 3587595\\\\\n",
       "\t3 & 1990-04-01 & 3926068\\\\\n",
       "\t4 & 1990-07-01 & 3934133\\\\\n",
       "\t5 & 1990-10-01 & 3995340\\\\\n",
       "\t7 & 1991-01-01 & 3677806\\\\\n",
       "\t8 & 1991-04-01 & 4217984\\\\\n",
       "\\end{tabular}\n"
      ],
      "text/markdown": [
       "\n",
       "A data.frame: 6 × 2\n",
       "\n",
       "| <!--/--> | Fecha &lt;date&gt; | PIB &lt;dbl&gt; |\n",
       "|---|---|---|\n",
       "| 2 | 1990-01-01 | 3587595 |\n",
       "| 3 | 1990-04-01 | 3926068 |\n",
       "| 4 | 1990-07-01 | 3934133 |\n",
       "| 5 | 1990-10-01 | 3995340 |\n",
       "| 7 | 1991-01-01 | 3677806 |\n",
       "| 8 | 1991-04-01 | 4217984 |\n",
       "\n"
      ],
      "text/plain": [
       "  Fecha      PIB    \n",
       "2 1990-01-01 3587595\n",
       "3 1990-04-01 3926068\n",
       "4 1990-07-01 3934133\n",
       "5 1990-10-01 3995340\n",
       "7 1991-01-01 3677806\n",
       "8 1991-04-01 4217984"
      ]
     },
     "metadata": {},
     "output_type": "display_data"
    }
   ],
   "source": [
    "head(datos)"
   ]
  },
  {
   "cell_type": "code",
   "execution_count": 49,
   "metadata": {},
   "outputs": [
    {
     "data": {
      "text/html": [
       "<table>\n",
       "<caption>A data.frame: 6 × 2</caption>\n",
       "<thead>\n",
       "\t<tr><th></th><th scope=col>Fecha</th><th scope=col>PIB</th></tr>\n",
       "\t<tr><th></th><th scope=col>&lt;date&gt;</th><th scope=col>&lt;dbl&gt;</th></tr>\n",
       "</thead>\n",
       "<tbody>\n",
       "\t<tr><th scope=row>147</th><td>2019-01-01</td><td>11316218</td></tr>\n",
       "\t<tr><th scope=row>148</th><td>2019-04-01</td><td>12506583</td></tr>\n",
       "\t<tr><th scope=row>149</th><td>2019-07-01</td><td>12490126</td></tr>\n",
       "\t<tr><th scope=row>150</th><td>2019-10-01</td><td>12944005</td></tr>\n",
       "\t<tr><th scope=row>152</th><td>2020-01-01</td><td>11379577</td></tr>\n",
       "\t<tr><th scope=row>153</th><td>2020-04-01</td><td> 9795505</td></tr>\n",
       "</tbody>\n",
       "</table>\n"
      ],
      "text/latex": [
       "A data.frame: 6 × 2\n",
       "\\begin{tabular}{r|ll}\n",
       "  & Fecha & PIB\\\\\n",
       "  & <date> & <dbl>\\\\\n",
       "\\hline\n",
       "\t147 & 2019-01-01 & 11316218\\\\\n",
       "\t148 & 2019-04-01 & 12506583\\\\\n",
       "\t149 & 2019-07-01 & 12490126\\\\\n",
       "\t150 & 2019-10-01 & 12944005\\\\\n",
       "\t152 & 2020-01-01 & 11379577\\\\\n",
       "\t153 & 2020-04-01 &  9795505\\\\\n",
       "\\end{tabular}\n"
      ],
      "text/markdown": [
       "\n",
       "A data.frame: 6 × 2\n",
       "\n",
       "| <!--/--> | Fecha &lt;date&gt; | PIB &lt;dbl&gt; |\n",
       "|---|---|---|\n",
       "| 147 | 2019-01-01 | 11316218 |\n",
       "| 148 | 2019-04-01 | 12506583 |\n",
       "| 149 | 2019-07-01 | 12490126 |\n",
       "| 150 | 2019-10-01 | 12944005 |\n",
       "| 152 | 2020-01-01 | 11379577 |\n",
       "| 153 | 2020-04-01 |  9795505 |\n",
       "\n"
      ],
      "text/plain": [
       "    Fecha      PIB     \n",
       "147 2019-01-01 11316218\n",
       "148 2019-04-01 12506583\n",
       "149 2019-07-01 12490126\n",
       "150 2019-10-01 12944005\n",
       "152 2020-01-01 11379577\n",
       "153 2020-04-01  9795505"
      ]
     },
     "metadata": {},
     "output_type": "display_data"
    }
   ],
   "source": [
    "tail(datos)"
   ]
  },
  {
   "cell_type": "code",
   "execution_count": 50,
   "metadata": {},
   "outputs": [],
   "source": [
    "library(ggplot2)"
   ]
  },
  {
   "cell_type": "code",
   "execution_count": 51,
   "metadata": {},
   "outputs": [
    {
     "data": {
      "image/png": "[encoded data removed]",
      "text/plain": [
       "plot without title"
      ]
     },
     "metadata": {
      "image/png": {
       "height": 420,
       "width": 420
      }
     },
     "output_type": "display_data"
    }
   ],
   "source": [
    "g <- ggplot(data = datos, aes(x = Fecha, y = PIB))\n",
    "g + geom_line()"
   ]
  },
  {
   "cell_type": "code",
   "execution_count": 71,
   "metadata": {},
   "outputs": [],
   "source": [
    "pib <- ts(datos$PIB, start = c(1990,1), end = c(2020, 2), frequency = 4)"
   ]
  },
  {
   "cell_type": "code",
   "execution_count": 72,
   "metadata": {},
   "outputs": [],
   "source": [
    "descom <- stl(pib, s.window = 9, s.degree = 1, t.window = 9, t.degree = 1)"
   ]
  },
  {
   "cell_type": "code",
   "execution_count": 73,
   "metadata": {},
   "outputs": [
    {
     "data": {
      "image/png": "[encoded data removed]",
      "text/plain": [
       "plot without title"
      ]
     },
     "metadata": {
      "image/png": {
       "height": 420,
       "width": 420
      }
     },
     "output_type": "display_data"
    }
   ],
   "source": [
    "plot(descom)"
   ]
  },
  {
   "cell_type": "code",
   "execution_count": 74,
   "metadata": {},
   "outputs": [],
   "source": [
    "pib_us <- pib - descom$time.series[, 1]"
   ]
  },
  {
   "cell_type": "code",
   "execution_count": 76,
   "metadata": {},
   "outputs": [],
   "source": [
    "datos$pib_us <- as.numeric(pib_us)"
   ]
  },
  {
   "cell_type": "code",
   "execution_count": 77,
   "metadata": {},
   "outputs": [
    {
     "data": {
      "image/png": "[encoded data removed]",
      "text/plain": [
       "plot without title"
      ]
     },
     "metadata": {
      "image/png": {
       "height": 420,
       "width": 420
      }
     },
     "output_type": "display_data"
    }
   ],
   "source": [
    "g <- ggplot(data = datos, aes(x = Fecha, y = pib_us))\n",
    "g + geom_line()"
   ]
  },
  {
   "cell_type": "code",
   "execution_count": 78,
   "metadata": {},
   "outputs": [],
   "source": [
    "n <- nrow(datos)"
   ]
  },
  {
   "cell_type": "code",
   "execution_count": 83,
   "metadata": {},
   "outputs": [],
   "source": [
    "datos_mod <- datos[1:(n - 10), ]"
   ]
  },
  {
   "cell_type": "code",
   "execution_count": 84,
   "metadata": {},
   "outputs": [
    {
     "data": {
      "image/png": "[encoded data removed]",
      "text/plain": [
       "plot without title"
      ]
     },
     "metadata": {
      "image/png": {
       "height": 420,
       "width": 420
      }
     },
     "output_type": "display_data"
    }
   ],
   "source": [
    "g <- ggplot(data = datos_mod, aes(x = Fecha, y = pib_us))\n",
    "g + geom_line()"
   ]
  },
  {
   "cell_type": "code",
   "execution_count": 89,
   "metadata": {},
   "outputs": [],
   "source": [
    "datos_mod$crec <- c(NA, (datos_mod$pib_us[2:112] / datos_mod$pib_us[1:111] - 1) * 100)"
   ]
  },
  {
   "cell_type": "code",
   "execution_count": 91,
   "metadata": {},
   "outputs": [
    {
     "data": {
      "image/png": "[encoded data removed]",
      "text/plain": [
       "plot without title"
      ]
     },
     "metadata": {
      "image/png": {
       "height": 420,
       "width": 420
      }
     },
     "output_type": "display_data"
    }
   ],
   "source": [
    "g <- ggplot(data = datos_mod[2:112, ], aes(x = Fecha, y = crec))\n",
    "g + geom_line()"
   ]
  },
  {
   "cell_type": "markdown",
   "metadata": {},
   "source": [
    "A pesar que el gráfico contiene algo de ruido pueden identificarse periodos donde el crecimiento trimestral del PIB estaba más bajo por ejemplo finales de la década de los 90 y periodos de auge donde hay mayores niveles de crecimiento del PIB trimestral por ejemplo a partir de 2005 a 2015. Entonces podríamos formar la hipótesis que el crecimiento Trimestral del PIB de Bolivia sigue un proceso AR(p) con las siguientes características:\n",
    "\n",
    "$$y_t = \\left\\{\\begin{array}{l} c_1 + \\phi^{(1)}_1 y_{t - 1} + \\phi^{(1)}_2 y_{t - 2} + \\dots + \\phi^{(1)}_p y_{t - p} + \\epsilon_{1t} \\text{ cuando } s_t = 1\\\\\n",
    " c_2 + \\phi^{(2)}_1 y_{t - 1} + \\phi^{(2)}_2 y_{t - 2} + \\dots + \\phi^{(2)}_p y_{t - p} + \\epsilon_{2t} \\text{ cuando } s_t = 2 \\end{array}\\right.$$"
   ]
  },
  {
   "cell_type": "markdown",
   "metadata": {},
   "source": [
    "donde $\\epsilon_{it}$ para $i = 1, 2$ es un proceso ruido blanco gausiano con media 0 y varianza $\\sigma^2_i$. El estar o no en cualquiera de los procesos depende de la realización del proceso estocástico $s_t$ que es no observable y toma los valores discretos de 1 cuando la economía está en recesión y de 2 cuando la economía está en auge. A este modelo se lo denomina modelo autoregresivo con cambio de régimen, Adicionalmente se considera que el cambio de régimes está determinado por una cadena de Markov. Entonces el primer paso para entender estos modelos es entender las cadenas de Markov."
   ]
  },
  {
   "cell_type": "markdown",
   "metadata": {},
   "source": [
    "### 9.1 Cadenas de Markov"
   ]
  },
  {
   "cell_type": "markdown",
   "metadata": {},
   "source": [
    "Consideremos una variable aleatoria $s_t$ que puede asumir solamente valores enteros: $1, 2, \\dots, N$. Supongamos que la probabilidad de que $s_t$ sea igual a un valor particular $j$ depende solamente del valor reciente $s_{t - 1}$, es decir:\n",
    "\n",
    "$$P[s_t = j | s_{t - 1} = i, s_{t - 2} = k, \\dots] = P[s_t = j | s_{t - 1} = i] = p_{ij}$$\n",
    "\n",
    "Tal proceso está descrito como una **cadena de Markov de N-estados** con probabilidades de transición $\\{p_{i,j}\\}_{i, j = 1, 2, \\dots, N}$. Además deben cumplir que:\n",
    "\n",
    "$$\\sum^N_{j = 1}p_{ij} = 1$$"
   ]
  },
  {
   "cell_type": "markdown",
   "metadata": {},
   "source": [
    "Podemos ubicar todas las probabilidades de transición en una matriz que se conoce como la **matriz de transición** $\\mathbf{P}$:\n",
    "\n",
    "$$\\mathbf{P} = \\left[\\begin{array}{cccc}p_{11} & p_{21} & \\dots & p_{N1} \\\\\n",
    "                                        p_{12} & p_{22} & \\dots & p_{N2} \\\\\n",
    "                                        \\vdots & \\vdots & \\ddots & \\vdots \\\\\n",
    "                                        p_{1N} & p_{2N} & \\dots & p_{NN}\\end{array}\\right]$$\n",
    "                                        \n",
    "donde se debe cumplir que la suma de cada columna sea 1."
   ]
  },
  {
   "cell_type": "markdown",
   "metadata": {},
   "source": [
    "Puede representarse una cadena de Markov como un vector autoregresivo. Para ello denotemos a $\\mathbf{\\xi}_t$ un vector de tamaño $N \\times 1$ donde su j-ésimo elemento es 1 si $s_t = 1$ y todos sus demás elementos son iguales a 0. Entonces $\\mathbf{\\xi}_t$ es la primera columna de la matriz identidad $\\mathbf{I}_N$. Cuando $s_t = 2$, entonces $\\mathbf{\\xi}_t$ es la segunda columna de la matriz identidad $\\mathbf{I}_N$ y asi seguimos sucesivamente hasta completar todos los estados.\n",
    "\n",
    "Definamos:\n",
    "\n",
    "$$E(\\mathbf{\\xi}_{t + 1}|s_t = i) = \\left[\\begin{array}{c} p_{i1} \\\\\n",
    "                                                           p_{i2} \\\\\n",
    "                                                           \\vdots \\\\\n",
    "                                                           p_{iN}\\end{array}\\right]$$"
   ]
  },
  {
   "cell_type": "markdown",
   "metadata": {},
   "source": [
    "Este vector no es nada más que la i-ésima columna de la matriz $\\mathbf{P}$. Como $\\mathbf{\\xi}_t$ es igual a la i-ésima columna de la matriz $\\mathbf{I}_N$, tenemos que:\n",
    "\n",
    "$$E(\\mathbf{\\xi}_{t+1}|\\mathbf{\\xi}_t) = \\mathbf{P}\\mathbf{\\xi}_t$$\n",
    "\n",
    "Lo que implica que:\n",
    "\n",
    "$$\\mathbf{\\xi}_{t + 1} = \\mathbf{P}\\mathbf{\\xi}_t + \\mathbf{v}_{t + 1}$$\n",
    "\n",
    "donde $\\mathbf{v}_{t + 1}$ es un proceso martingala en diferencias. "
   ]
  },
  {
   "cell_type": "markdown",
   "metadata": {},
   "source": [
    "Con esta representación podemos hallar el pronóstico $\\mathbf{\\hat{\\xi}}_{t + m|t}$ como:\n",
    "\n",
    "$$\\mathbf{\\hat{\\xi}}_{t + m|t} = \\hat{E}(\\mathbf{\\hat{\\xi}}_{t + m}|\\mathbf{\\xi}_t, \\mathbf{\\xi}_{t - 1}, \\dots) = \\mathbf{P}^m \\mathbf{\\xi}_t$$.\n",
    "\n",
    "Lo que representa el j-ésimo elemento de este vector $\\mathbf{\\hat{\\xi}}_{t + m|t}$ es la probabilidad de que $s_{t + m} = j$ dado que $s_t = i$. Entonces $\\mathbf{P}^m$ nos da las probabilidades de transicion $m$ periodos adelante.\n",
    "\n",
    "Un concepto que se maneja es el de cadenas de markov ergódicas. Para ello se define un vector de probabilidades ergódicas $\\mathbf{\\pi}$ y este vector debe satisfacer el requerimiento que:\n",
    "\n",
    "$$\\mathbf{P \\pi} = \\mathbf{\\pi}$$\n",
    "\n",
    "lo que muestra que $\\mathbf{\\pi}$ es el autovector relacionado con el autovalor de $\\mathbf{P}$ igual a 1. Se puede demostrar que:\n",
    "\n",
    "$$\\lim_{m \\to \\infty} \\mathbf{P}^m = \\mathbf{\\pi 1'}$$\n",
    "\n",
    "Resulta que el pronóstico de largo plazo es $\\mathbf{\\pi}$ y también es la media no condicional del proceso.\n",
    "\n",
    "Una cadena de Markov ergódica es entonces un proceso estacionario."
   ]
  },
  {
   "cell_type": "markdown",
   "metadata": {},
   "source": [
    "### 9.2 Análisis estadístico de combinación de distribuciones para variables i.i.d"
   ]
  },
  {
   "cell_type": "markdown",
   "metadata": {},
   "source": [
    "Supongamos que tenemos el proceso:\n",
    "\n",
    "$$y_t = \\left\\{\\begin{array}{l}\\mu_1 + \\epsilon_{1t} \\text{ cuando } s_t = 1 \\\\\n",
    "                               \\mu_2 + \\epsilon_{2t} \\text{ cuando } s_t = 2 \\\\\n",
    "                               \\vdots \\\\\n",
    "                               \\mu_N + \\epsilon_{Nt} \\text{ cuando } s_t = N\\end{array}\\right.$$"
   ]
  },
  {
   "cell_type": "markdown",
   "metadata": {},
   "source": [
    "donde $\\epsilon_{jt} \\sim N(0, \\sigma^2_j)$ para $j = 1, 2, \\dots, N$. Tenemos que la función de densidad condicional de $y_t$ respecto a la variable aleatoria $s_t$ es:\n",
    "\n",
    "$$f(y_t|s_t = j; \\mathbf{\\Theta}) = \\frac{1}{\\sqrt{2 \\pi \\sigma^2_j}}exp\\left[\\frac{-(y_t - \\mu_j)^2}{2 \\sigma^2_j} \\right]$$\n",
    "\n",
    "La variable $s_t$ no es observable pero sabemos que la probabilidad no condicional de que $s_t = j$ es:\n",
    "\n",
    "$$P[s_t = j; \\mathbf{\\Theta}] = \\pi_j$$\n",
    "\n",
    "La probabilidad conjunta de $y_t$ y $s_t$ sería:\n",
    "\n",
    "$$p(y_t, s_t = j; \\mathbf{\\Theta}) = \\frac{\\pi_j}{\\sqrt{2 \\pi \\sigma^2_j}}exp\\left[\\frac{-(y_t - \\mu_j)^2}{2 \\sigma^2_j} \\right]$$\n",
    "\n",
    "De esta forma la función de densidad no condicional de $y_t$ sería:\n",
    "\n",
    "$$f(y_t; \\mathbf{\\Theta}) = \\sum^N_{j = 1}p(y_t, s_t = j; \\mathbf{\\Theta})$$\n",
    "\n",
    "Finalmente la función de verosimilitud en logaritmos sería:\n",
    "\n",
    "$$\\mathcal{L}(\\mathbf{\\Theta}) = \\sum^T_{t = 1} \\log f(y_t; \\mathbf{\\Theta})$$"
   ]
  },
  {
   "cell_type": "markdown",
   "metadata": {},
   "source": [
    "Se pueden seguir los siguientes pasos para la estimación:\n",
    "\n",
    "1. Darse un valor inicial de $\\mathbf{\\Theta}_0$.\n",
    "2. Calcular $\\pi_j$.\n",
    "3. Usar todos las $\\pi_j$ para maximizar la función de verosimilitud y hallar un nuevo $\\mathbf{\\Theta}_1$.\n",
    "4. Repetir los pasos 2 y 3 hasta que se cumpla un criterio de convergencia."
   ]
  },
  {
   "cell_type": "markdown",
   "metadata": {},
   "source": [
    "Podemos adicionalmente una vez obtenidos los parámetros del modelo $\\mathbf{\\hat{\\Theta}}$ calcular:\n",
    "\n",
    "$$P[s_t = j|y_t;\\mathbf{\\hat{\\Theta}}] = \\frac{\\pi_j f(y_t|s_t = j; \\mathbf{\\hat{\\Theta}})}{f(y_t; \\mathbf{\\hat{\\Theta}})}$$\n",
    "\n",
    "que no es más que la probabilidad de estar en el estado $j$ dada la observación $y_t$ y el conjunto de parámetros estimados $\\mathbf{\\hat{\\Theta}}$."
   ]
  },
  {
   "cell_type": "markdown",
   "metadata": {},
   "source": [
    "La estructura es similar para el caso de procesos autoregresivos y puede verse en Hamilton(1994)."
   ]
  },
  {
   "cell_type": "markdown",
   "metadata": {},
   "source": [
    "### 9.3 Caso de Estudio: Modelo Autoregresivo con Cambio de Régimen en base a Cadenas de Markov aplicado al crecimiento trimestral de Bolivia 1990 - 2017"
   ]
  },
  {
   "cell_type": "code",
   "execution_count": 92,
   "metadata": {},
   "outputs": [
    {
     "name": "stderr",
     "output_type": "stream",
     "text": [
      "Loading required package: parallel\n",
      "\n"
     ]
    }
   ],
   "source": [
    "library(\"MSwM\")"
   ]
  },
  {
   "cell_type": "code",
   "execution_count": 93,
   "metadata": {},
   "outputs": [],
   "source": [
    "ols_mod <- lm(crec ~ 1, data = datos_mod)"
   ]
  },
  {
   "cell_type": "code",
   "execution_count": 95,
   "metadata": {},
   "outputs": [],
   "source": [
    "ms_mod <- msmFit(ols_mod, k = 2, sw = c(TRUE, TRUE, TRUE), p = 1)"
   ]
  },
  {
   "cell_type": "code",
   "execution_count": 98,
   "metadata": {},
   "outputs": [
    {
     "data": {
      "image/png": "[encoded data removed]",
      "text/plain": [
       "Plot with title \"Regime 2\""
      ]
     },
     "metadata": {
      "image/png": {
       "height": 420,
       "width": 420
      }
     },
     "output_type": "display_data"
    }
   ],
   "source": [
    "plotProb(ms_mod, which = 1)"
   ]
  },
  {
   "cell_type": "code",
   "execution_count": 99,
   "metadata": {},
   "outputs": [
    {
     "data": {
      "image/png": "[encoded data removed]",
      "text/plain": [
       "Plot with title \"Regime 1\""
      ]
     },
     "metadata": {
      "image/png": {
       "height": 420,
       "width": 420
      }
     },
     "output_type": "display_data"
    }
   ],
   "source": [
    "plotProb(ms_mod, which = 2)"
   ]
  },
  {
   "cell_type": "code",
   "execution_count": 100,
   "metadata": {},
   "outputs": [
    {
     "data": {
      "image/png": "[encoded data removed]",
      "text/plain": [
       "Plot with title \"Regime 2\""
      ]
     },
     "metadata": {
      "image/png": {
       "height": 420,
       "width": 420
      }
     },
     "output_type": "display_data"
    }
   ],
   "source": [
    "plotProb(ms_mod, which = 3)"
   ]
  },
  {
   "cell_type": "code",
   "execution_count": 102,
   "metadata": {},
   "outputs": [
    {
     "name": "stdout",
     "output_type": "stream",
     "text": [
      "Markov Switching Model\n",
      "\n",
      "Call: msmFit(object = ols_mod, k = 2, sw = c(TRUE, TRUE, TRUE), p = 1)\n",
      "\n",
      "       AIC      BIC    logLik\n",
      "  309.1668 338.7707 -150.5834\n",
      "\n",
      "Coefficients:\n",
      "\n",
      "Regime 1 \n",
      "---------\n",
      "               Estimate Std. Error t value  Pr(>|t|)    \n",
      "(Intercept)(S)   1.1860     0.2480  4.7823 1.733e-06 ***\n",
      "crec_1(S)       -0.5274     0.1369 -3.8524  0.000117 ***\n",
      "---\n",
      "Signif. codes:  0 '***' 0.001 '**' 0.01 '*' 0.05 '.' 0.1 ' ' 1\n",
      "\n",
      "Residual standard error: 1.248767\n",
      "Multiple R-squared: 0.2686\n",
      "\n",
      "Standardized Residuals:\n",
      "        Min          Q1         Med          Q3         Max \n",
      "-2.54910765 -0.06000352  0.06629095  0.29363884  2.56149261 \n",
      "\n",
      "Regime 2 \n",
      "---------\n",
      "               Estimate Std. Error t value  Pr(>|t|)    \n",
      "(Intercept)(S)   1.6132     0.1671  9.6541 < 2.2e-16 ***\n",
      "crec_1(S)       -0.3261     0.1176 -2.7730  0.005554 ** \n",
      "---\n",
      "Signif. codes:  0 '***' 0.001 '**' 0.01 '*' 0.05 '.' 0.1 ' ' 1\n",
      "\n",
      "Residual standard error: 0.6960228\n",
      "Multiple R-squared: 0.1428\n",
      "\n",
      "Standardized Residuals:\n",
      "       Min         Q1        Med         Q3        Max \n",
      "-1.7280187 -0.2762476 -0.0441773  0.1791788  1.4968585 \n",
      "\n",
      "Transition probabilities:\n",
      "           Regime 1   Regime 2\n",
      "Regime 1 0.94223668 0.03936238\n",
      "Regime 2 0.05776332 0.96063762\n"
     ]
    }
   ],
   "source": [
    "summary(ms_mod)"
   ]
  },
  {
   "cell_type": "code",
   "execution_count": null,
   "metadata": {},
   "outputs": [],
   "source": []
  }
 ],
 "metadata": {
  "kernelspec": {
   "display_name": "R",
   "language": "R",
   "name": "ir"
  },
  "language_info": {
   "codemirror_mode": "r",
   "file_extension": ".r",
   "mimetype": "text/x-r-source",
   "name": "R",
   "pygments_lexer": "r",
   "version": "4.0.3"
  }
 },
 "nbformat": 4,
 "nbformat_minor": 4
}
